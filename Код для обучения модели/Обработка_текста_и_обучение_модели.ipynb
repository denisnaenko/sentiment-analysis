{
  "nbformat": 4,
  "nbformat_minor": 0,
  "metadata": {
    "colab": {
      "provenance": []
    },
    "kernelspec": {
      "name": "python3",
      "display_name": "Python 3"
    },
    "language_info": {
      "name": "python"
    }
  },
  "cells": [
    {
      "cell_type": "markdown",
      "source": [
        "Установка необходимых библиотек"
      ],
      "metadata": {
        "id": "r9gnhYAW8P_X"
      }
    },
    {
      "cell_type": "code",
      "source": [
        "!pip install pymorphy3\n",
        "!pip install joblib\n",
        "!pip install natasha"
      ],
      "metadata": {
        "colab": {
          "base_uri": "https://localhost:8080/"
        },
        "id": "8BgMqok2HL__",
        "outputId": "d01183a6-9eba-41f8-858c-218c2e361e3a"
      },
      "execution_count": 1,
      "outputs": [
        {
          "output_type": "stream",
          "name": "stdout",
          "text": [
            "Collecting pymorphy3\n",
            "  Downloading pymorphy3-2.0.1-py3-none-any.whl (53 kB)\n",
            "\u001b[?25l     \u001b[90m━━━━━━━━━━━━━━━━━━━━━━━━━━━━━━━━━━━━━━━━\u001b[0m \u001b[32m0.0/53.2 kB\u001b[0m \u001b[31m?\u001b[0m eta \u001b[36m-:--:--\u001b[0m\r\u001b[2K     \u001b[90m━━━━━━━━━━━━━━━━━━━━━━━━━━━━━━━━━━━━━━━━\u001b[0m \u001b[32m53.2/53.2 kB\u001b[0m \u001b[31m1.7 MB/s\u001b[0m eta \u001b[36m0:00:00\u001b[0m\n",
            "\u001b[?25hCollecting dawg-python>=0.7.1 (from pymorphy3)\n",
            "  Downloading DAWG_Python-0.7.2-py2.py3-none-any.whl (11 kB)\n",
            "Collecting pymorphy3-dicts-ru (from pymorphy3)\n",
            "  Downloading pymorphy3_dicts_ru-2.4.417150.4580142-py2.py3-none-any.whl (8.4 MB)\n",
            "\u001b[2K     \u001b[90m━━━━━━━━━━━━━━━━━━━━━━━━━━━━━━━━━━━━━━━━\u001b[0m \u001b[32m8.4/8.4 MB\u001b[0m \u001b[31m55.1 MB/s\u001b[0m eta \u001b[36m0:00:00\u001b[0m\n",
            "\u001b[?25hInstalling collected packages: pymorphy3-dicts-ru, dawg-python, pymorphy3\n",
            "Successfully installed dawg-python-0.7.2 pymorphy3-2.0.1 pymorphy3-dicts-ru-2.4.417150.4580142\n",
            "Requirement already satisfied: joblib in /usr/local/lib/python3.10/dist-packages (1.4.2)\n",
            "Collecting natasha\n",
            "  Downloading natasha-1.6.0-py3-none-any.whl (34.4 MB)\n",
            "\u001b[2K     \u001b[90m━━━━━━━━━━━━━━━━━━━━━━━━━━━━━━━━━━━━━━━━\u001b[0m \u001b[32m34.4/34.4 MB\u001b[0m \u001b[31m30.1 MB/s\u001b[0m eta \u001b[36m0:00:00\u001b[0m\n",
            "\u001b[?25hCollecting pymorphy2 (from natasha)\n",
            "  Downloading pymorphy2-0.9.1-py3-none-any.whl (55 kB)\n",
            "\u001b[2K     \u001b[90m━━━━━━━━━━━━━━━━━━━━━━━━━━━━━━━━━━━━━━━━\u001b[0m \u001b[32m55.5/55.5 kB\u001b[0m \u001b[31m6.4 MB/s\u001b[0m eta \u001b[36m0:00:00\u001b[0m\n",
            "\u001b[?25hCollecting razdel>=0.5.0 (from natasha)\n",
            "  Downloading razdel-0.5.0-py3-none-any.whl (21 kB)\n",
            "Collecting navec>=0.9.0 (from natasha)\n",
            "  Downloading navec-0.10.0-py3-none-any.whl (23 kB)\n",
            "Collecting slovnet>=0.6.0 (from natasha)\n",
            "  Downloading slovnet-0.6.0-py3-none-any.whl (46 kB)\n",
            "\u001b[2K     \u001b[90m━━━━━━━━━━━━━━━━━━━━━━━━━━━━━━━━━━━━━━━━\u001b[0m \u001b[32m46.7/46.7 kB\u001b[0m \u001b[31m4.9 MB/s\u001b[0m eta \u001b[36m0:00:00\u001b[0m\n",
            "\u001b[?25hCollecting yargy>=0.16.0 (from natasha)\n",
            "  Downloading yargy-0.16.0-py3-none-any.whl (33 kB)\n",
            "Collecting ipymarkup>=0.8.0 (from natasha)\n",
            "  Downloading ipymarkup-0.9.0-py3-none-any.whl (14 kB)\n",
            "Collecting intervaltree>=3 (from ipymarkup>=0.8.0->natasha)\n",
            "  Downloading intervaltree-3.1.0.tar.gz (32 kB)\n",
            "  Preparing metadata (setup.py) ... \u001b[?25l\u001b[?25hdone\n",
            "Requirement already satisfied: numpy in /usr/local/lib/python3.10/dist-packages (from navec>=0.9.0->natasha) (1.25.2)\n",
            "Requirement already satisfied: dawg-python>=0.7.1 in /usr/local/lib/python3.10/dist-packages (from pymorphy2->natasha) (0.7.2)\n",
            "Collecting pymorphy2-dicts-ru<3.0,>=2.4 (from pymorphy2->natasha)\n",
            "  Downloading pymorphy2_dicts_ru-2.4.417127.4579844-py2.py3-none-any.whl (8.2 MB)\n",
            "\u001b[2K     \u001b[90m━━━━━━━━━━━━━━━━━━━━━━━━━━━━━━━━━━━━━━━━\u001b[0m \u001b[32m8.2/8.2 MB\u001b[0m \u001b[31m85.7 MB/s\u001b[0m eta \u001b[36m0:00:00\u001b[0m\n",
            "\u001b[?25hCollecting docopt>=0.6 (from pymorphy2->natasha)\n",
            "  Downloading docopt-0.6.2.tar.gz (25 kB)\n",
            "  Preparing metadata (setup.py) ... \u001b[?25l\u001b[?25hdone\n",
            "Requirement already satisfied: sortedcontainers<3.0,>=2.0 in /usr/local/lib/python3.10/dist-packages (from intervaltree>=3->ipymarkup>=0.8.0->natasha) (2.4.0)\n",
            "Building wheels for collected packages: docopt, intervaltree\n",
            "  Building wheel for docopt (setup.py) ... \u001b[?25l\u001b[?25hdone\n",
            "  Created wheel for docopt: filename=docopt-0.6.2-py2.py3-none-any.whl size=13706 sha256=2fbc3c20d656380e04ade12a8e2c4599737741a7086e57ec9082961281552aa4\n",
            "  Stored in directory: /root/.cache/pip/wheels/fc/ab/d4/5da2067ac95b36618c629a5f93f809425700506f72c9732fac\n",
            "  Building wheel for intervaltree (setup.py) ... \u001b[?25l\u001b[?25hdone\n",
            "  Created wheel for intervaltree: filename=intervaltree-3.1.0-py2.py3-none-any.whl size=26096 sha256=da280b4f2a14e7d1050c8941e5051041518809e3bf137539918420acd4bc4cf4\n",
            "  Stored in directory: /root/.cache/pip/wheels/fa/80/8c/43488a924a046b733b64de3fac99252674c892a4c3801c0a61\n",
            "Successfully built docopt intervaltree\n",
            "Installing collected packages: razdel, pymorphy2-dicts-ru, docopt, pymorphy2, navec, intervaltree, yargy, slovnet, ipymarkup, natasha\n",
            "Successfully installed docopt-0.6.2 intervaltree-3.1.0 ipymarkup-0.9.0 natasha-1.6.0 navec-0.10.0 pymorphy2-0.9.1 pymorphy2-dicts-ru-2.4.417127.4579844 razdel-0.5.0 slovnet-0.6.0 yargy-0.16.0\n"
          ]
        }
      ]
    },
    {
      "cell_type": "markdown",
      "source": [
        "Загрузка библиотек"
      ],
      "metadata": {
        "id": "zR0lSX6c8ZaA"
      }
    },
    {
      "cell_type": "code",
      "source": [
        "import pandas as pd\n",
        "import numpy as np\n",
        "from pymorphy3 import MorphAnalyzer\n",
        "import nltk\n",
        "from nltk.tokenize import word_tokenize\n",
        "from nltk.corpus import stopwords\n",
        "from sklearn.linear_model import LogisticRegression\n",
        "from sklearn.ensemble import RandomForestClassifier\n",
        "from sklearn.svm import SVC\n",
        "from sklearn.naive_bayes import GaussianNB\n",
        "from sklearn.metrics import (\n",
        "    accuracy_score,\n",
        "    confusion_matrix,\n",
        "    ConfusionMatrixDisplay,\n",
        "    f1_score,\n",
        "    classification_report,\n",
        ")\n",
        "\n",
        "\n",
        "from sklearn.model_selection import train_test_split\n",
        "from collections import Counter\n",
        "import json\n",
        "import pickle\n",
        "import joblib\n",
        "import string\n",
        "import re"
      ],
      "metadata": {
        "id": "JXlkkqth8Ytx"
      },
      "execution_count": 2,
      "outputs": []
    },
    {
      "cell_type": "markdown",
      "source": [
        "Установка данных"
      ],
      "metadata": {
        "id": "4RHV_1Sm8eOY"
      }
    },
    {
      "cell_type": "code",
      "source": [
        "nltk.download('punkt')\n",
        "nltk.download('stopwords')"
      ],
      "metadata": {
        "colab": {
          "base_uri": "https://localhost:8080/"
        },
        "id": "1alL7bHs8103",
        "outputId": "1bc68a57-035c-4a3e-8de0-079cb22c07d5"
      },
      "execution_count": 3,
      "outputs": [
        {
          "output_type": "stream",
          "name": "stderr",
          "text": [
            "[nltk_data] Downloading package punkt to /root/nltk_data...\n",
            "[nltk_data]   Unzipping tokenizers/punkt.zip.\n",
            "[nltk_data] Downloading package stopwords to /root/nltk_data...\n",
            "[nltk_data]   Unzipping corpora/stopwords.zip.\n"
          ]
        },
        {
          "output_type": "execute_result",
          "data": {
            "text/plain": [
              "True"
            ]
          },
          "metadata": {},
          "execution_count": 3
        }
      ]
    },
    {
      "cell_type": "markdown",
      "source": [
        "Константы"
      ],
      "metadata": {
        "id": "XnyVgwHO9Dmq"
      }
    },
    {
      "cell_type": "code",
      "source": [
        "MAX_WORDS = 10000\n",
        "RANDOM_STATE = 42\n",
        "\n",
        "punctuation_marks = ('!', ',', '(', ')', ':', '-', '+', '?', '.', '«', '»', ';', '–', '-', '…', '—',\n",
        "                      '#', '&', '%', '*', '“', '”', '`', \"'\", '\"', '0', '1', '2', '3', '4', '5', '6', '7', '8',\n",
        "                      '9', 's', 'x', 'l', '\\\\', '/') + tuple(string.ascii_lowercase)\n",
        "\n",
        "# С помощью лемматизации, стематизации, pos-тегов нужно убрать из словаря и обработки этот снизу мусор\n",
        "stop_words = stopwords.words(\"russian\") + ['это', 'аж', 'ка', 'мя', 'ул', 'ом', 'ма', 'ый', 'мр', 'тр', 'чей',\n",
        "                                           'сгс', 'ля', 'эппл', 'юсб', 'тлф', 'ася', 'азс', 'ик', 'нуть', 'юрий',\n",
        "                                           'тат', 'эл', 'ух', 'джи', 'дог', 'грн', 'ия', 'изз', 'самс', 'дак', 'пвз',\n",
        "                                           'ке', 'ин', 'гпс', 'сап', 'аля', 'хны', 'эх', 'зы']\n",
        "stop_words.remove('не')\n",
        "\n",
        "morph = MorphAnalyzer()"
      ],
      "metadata": {
        "id": "Lkkv2dTM9F-d"
      },
      "execution_count": 4,
      "outputs": []
    },
    {
      "cell_type": "markdown",
      "source": [
        "Файлы"
      ],
      "metadata": {
        "id": "zzieORdt9Pno"
      }
    },
    {
      "cell_type": "code",
      "source": [
        "# Файл для обучения\n",
        "FILE_NAME = 'БЕЗ ТУПЫХ ЗНАКОВ - 10'\n",
        "reviews = pd.read_csv(f'{FILE_NAME}.csv', sep=',')\n",
        "reviews.head(5)"
      ],
      "metadata": {
        "id": "IAzSUynW9SyE",
        "colab": {
          "base_uri": "https://localhost:8080/",
          "height": 206
        },
        "outputId": "f20b0c60-8d06-482f-c557-c04394efb550"
      },
      "execution_count": 9,
      "outputs": [
        {
          "output_type": "execute_result",
          "data": {
            "text/plain": [
              "   Unnamed: 0                                               Text  Score\n",
              "0           0  Лучшая детская парикмахерская! А чего стоят си...      2\n",
              "1           1  Ребята, советую брать если нужен телефон на дв...      2\n",
              "2           2  Единственный минус что нет фуд кортов и мало м...      2\n",
              "3           3  Красивый храм. Расположен правда не на \" ходу\"...      2\n",
              "4           4  Очень люблю этот супермаркет, всегда чисто, хо...      2"
            ],
            "text/html": [
              "\n",
              "  <div id=\"df-55e68647-88cc-448e-a95c-141a0965cbb7\" class=\"colab-df-container\">\n",
              "    <div>\n",
              "<style scoped>\n",
              "    .dataframe tbody tr th:only-of-type {\n",
              "        vertical-align: middle;\n",
              "    }\n",
              "\n",
              "    .dataframe tbody tr th {\n",
              "        vertical-align: top;\n",
              "    }\n",
              "\n",
              "    .dataframe thead th {\n",
              "        text-align: right;\n",
              "    }\n",
              "</style>\n",
              "<table border=\"1\" class=\"dataframe\">\n",
              "  <thead>\n",
              "    <tr style=\"text-align: right;\">\n",
              "      <th></th>\n",
              "      <th>Unnamed: 0</th>\n",
              "      <th>Text</th>\n",
              "      <th>Score</th>\n",
              "    </tr>\n",
              "  </thead>\n",
              "  <tbody>\n",
              "    <tr>\n",
              "      <th>0</th>\n",
              "      <td>0</td>\n",
              "      <td>Лучшая детская парикмахерская! А чего стоят си...</td>\n",
              "      <td>2</td>\n",
              "    </tr>\n",
              "    <tr>\n",
              "      <th>1</th>\n",
              "      <td>1</td>\n",
              "      <td>Ребята, советую брать если нужен телефон на дв...</td>\n",
              "      <td>2</td>\n",
              "    </tr>\n",
              "    <tr>\n",
              "      <th>2</th>\n",
              "      <td>2</td>\n",
              "      <td>Единственный минус что нет фуд кортов и мало м...</td>\n",
              "      <td>2</td>\n",
              "    </tr>\n",
              "    <tr>\n",
              "      <th>3</th>\n",
              "      <td>3</td>\n",
              "      <td>Красивый храм. Расположен правда не на \" ходу\"...</td>\n",
              "      <td>2</td>\n",
              "    </tr>\n",
              "    <tr>\n",
              "      <th>4</th>\n",
              "      <td>4</td>\n",
              "      <td>Очень люблю этот супермаркет, всегда чисто, хо...</td>\n",
              "      <td>2</td>\n",
              "    </tr>\n",
              "  </tbody>\n",
              "</table>\n",
              "</div>\n",
              "    <div class=\"colab-df-buttons\">\n",
              "\n",
              "  <div class=\"colab-df-container\">\n",
              "    <button class=\"colab-df-convert\" onclick=\"convertToInteractive('df-55e68647-88cc-448e-a95c-141a0965cbb7')\"\n",
              "            title=\"Convert this dataframe to an interactive table.\"\n",
              "            style=\"display:none;\">\n",
              "\n",
              "  <svg xmlns=\"http://www.w3.org/2000/svg\" height=\"24px\" viewBox=\"0 -960 960 960\">\n",
              "    <path d=\"M120-120v-720h720v720H120Zm60-500h600v-160H180v160Zm220 220h160v-160H400v160Zm0 220h160v-160H400v160ZM180-400h160v-160H180v160Zm440 0h160v-160H620v160ZM180-180h160v-160H180v160Zm440 0h160v-160H620v160Z\"/>\n",
              "  </svg>\n",
              "    </button>\n",
              "\n",
              "  <style>\n",
              "    .colab-df-container {\n",
              "      display:flex;\n",
              "      gap: 12px;\n",
              "    }\n",
              "\n",
              "    .colab-df-convert {\n",
              "      background-color: #E8F0FE;\n",
              "      border: none;\n",
              "      border-radius: 50%;\n",
              "      cursor: pointer;\n",
              "      display: none;\n",
              "      fill: #1967D2;\n",
              "      height: 32px;\n",
              "      padding: 0 0 0 0;\n",
              "      width: 32px;\n",
              "    }\n",
              "\n",
              "    .colab-df-convert:hover {\n",
              "      background-color: #E2EBFA;\n",
              "      box-shadow: 0px 1px 2px rgba(60, 64, 67, 0.3), 0px 1px 3px 1px rgba(60, 64, 67, 0.15);\n",
              "      fill: #174EA6;\n",
              "    }\n",
              "\n",
              "    .colab-df-buttons div {\n",
              "      margin-bottom: 4px;\n",
              "    }\n",
              "\n",
              "    [theme=dark] .colab-df-convert {\n",
              "      background-color: #3B4455;\n",
              "      fill: #D2E3FC;\n",
              "    }\n",
              "\n",
              "    [theme=dark] .colab-df-convert:hover {\n",
              "      background-color: #434B5C;\n",
              "      box-shadow: 0px 1px 3px 1px rgba(0, 0, 0, 0.15);\n",
              "      filter: drop-shadow(0px 1px 2px rgba(0, 0, 0, 0.3));\n",
              "      fill: #FFFFFF;\n",
              "    }\n",
              "  </style>\n",
              "\n",
              "    <script>\n",
              "      const buttonEl =\n",
              "        document.querySelector('#df-55e68647-88cc-448e-a95c-141a0965cbb7 button.colab-df-convert');\n",
              "      buttonEl.style.display =\n",
              "        google.colab.kernel.accessAllowed ? 'block' : 'none';\n",
              "\n",
              "      async function convertToInteractive(key) {\n",
              "        const element = document.querySelector('#df-55e68647-88cc-448e-a95c-141a0965cbb7');\n",
              "        const dataTable =\n",
              "          await google.colab.kernel.invokeFunction('convertToInteractive',\n",
              "                                                    [key], {});\n",
              "        if (!dataTable) return;\n",
              "\n",
              "        const docLinkHtml = 'Like what you see? Visit the ' +\n",
              "          '<a target=\"_blank\" href=https://colab.research.google.com/notebooks/data_table.ipynb>data table notebook</a>'\n",
              "          + ' to learn more about interactive tables.';\n",
              "        element.innerHTML = '';\n",
              "        dataTable['output_type'] = 'display_data';\n",
              "        await google.colab.output.renderOutput(dataTable, element);\n",
              "        const docLink = document.createElement('div');\n",
              "        docLink.innerHTML = docLinkHtml;\n",
              "        element.appendChild(docLink);\n",
              "      }\n",
              "    </script>\n",
              "  </div>\n",
              "\n",
              "\n",
              "<div id=\"df-6f211cff-0a79-4529-8df6-7caf835fae88\">\n",
              "  <button class=\"colab-df-quickchart\" onclick=\"quickchart('df-6f211cff-0a79-4529-8df6-7caf835fae88')\"\n",
              "            title=\"Suggest charts\"\n",
              "            style=\"display:none;\">\n",
              "\n",
              "<svg xmlns=\"http://www.w3.org/2000/svg\" height=\"24px\"viewBox=\"0 0 24 24\"\n",
              "     width=\"24px\">\n",
              "    <g>\n",
              "        <path d=\"M19 3H5c-1.1 0-2 .9-2 2v14c0 1.1.9 2 2 2h14c1.1 0 2-.9 2-2V5c0-1.1-.9-2-2-2zM9 17H7v-7h2v7zm4 0h-2V7h2v10zm4 0h-2v-4h2v4z\"/>\n",
              "    </g>\n",
              "</svg>\n",
              "  </button>\n",
              "\n",
              "<style>\n",
              "  .colab-df-quickchart {\n",
              "      --bg-color: #E8F0FE;\n",
              "      --fill-color: #1967D2;\n",
              "      --hover-bg-color: #E2EBFA;\n",
              "      --hover-fill-color: #174EA6;\n",
              "      --disabled-fill-color: #AAA;\n",
              "      --disabled-bg-color: #DDD;\n",
              "  }\n",
              "\n",
              "  [theme=dark] .colab-df-quickchart {\n",
              "      --bg-color: #3B4455;\n",
              "      --fill-color: #D2E3FC;\n",
              "      --hover-bg-color: #434B5C;\n",
              "      --hover-fill-color: #FFFFFF;\n",
              "      --disabled-bg-color: #3B4455;\n",
              "      --disabled-fill-color: #666;\n",
              "  }\n",
              "\n",
              "  .colab-df-quickchart {\n",
              "    background-color: var(--bg-color);\n",
              "    border: none;\n",
              "    border-radius: 50%;\n",
              "    cursor: pointer;\n",
              "    display: none;\n",
              "    fill: var(--fill-color);\n",
              "    height: 32px;\n",
              "    padding: 0;\n",
              "    width: 32px;\n",
              "  }\n",
              "\n",
              "  .colab-df-quickchart:hover {\n",
              "    background-color: var(--hover-bg-color);\n",
              "    box-shadow: 0 1px 2px rgba(60, 64, 67, 0.3), 0 1px 3px 1px rgba(60, 64, 67, 0.15);\n",
              "    fill: var(--button-hover-fill-color);\n",
              "  }\n",
              "\n",
              "  .colab-df-quickchart-complete:disabled,\n",
              "  .colab-df-quickchart-complete:disabled:hover {\n",
              "    background-color: var(--disabled-bg-color);\n",
              "    fill: var(--disabled-fill-color);\n",
              "    box-shadow: none;\n",
              "  }\n",
              "\n",
              "  .colab-df-spinner {\n",
              "    border: 2px solid var(--fill-color);\n",
              "    border-color: transparent;\n",
              "    border-bottom-color: var(--fill-color);\n",
              "    animation:\n",
              "      spin 1s steps(1) infinite;\n",
              "  }\n",
              "\n",
              "  @keyframes spin {\n",
              "    0% {\n",
              "      border-color: transparent;\n",
              "      border-bottom-color: var(--fill-color);\n",
              "      border-left-color: var(--fill-color);\n",
              "    }\n",
              "    20% {\n",
              "      border-color: transparent;\n",
              "      border-left-color: var(--fill-color);\n",
              "      border-top-color: var(--fill-color);\n",
              "    }\n",
              "    30% {\n",
              "      border-color: transparent;\n",
              "      border-left-color: var(--fill-color);\n",
              "      border-top-color: var(--fill-color);\n",
              "      border-right-color: var(--fill-color);\n",
              "    }\n",
              "    40% {\n",
              "      border-color: transparent;\n",
              "      border-right-color: var(--fill-color);\n",
              "      border-top-color: var(--fill-color);\n",
              "    }\n",
              "    60% {\n",
              "      border-color: transparent;\n",
              "      border-right-color: var(--fill-color);\n",
              "    }\n",
              "    80% {\n",
              "      border-color: transparent;\n",
              "      border-right-color: var(--fill-color);\n",
              "      border-bottom-color: var(--fill-color);\n",
              "    }\n",
              "    90% {\n",
              "      border-color: transparent;\n",
              "      border-bottom-color: var(--fill-color);\n",
              "    }\n",
              "  }\n",
              "</style>\n",
              "\n",
              "  <script>\n",
              "    async function quickchart(key) {\n",
              "      const quickchartButtonEl =\n",
              "        document.querySelector('#' + key + ' button');\n",
              "      quickchartButtonEl.disabled = true;  // To prevent multiple clicks.\n",
              "      quickchartButtonEl.classList.add('colab-df-spinner');\n",
              "      try {\n",
              "        const charts = await google.colab.kernel.invokeFunction(\n",
              "            'suggestCharts', [key], {});\n",
              "      } catch (error) {\n",
              "        console.error('Error during call to suggestCharts:', error);\n",
              "      }\n",
              "      quickchartButtonEl.classList.remove('colab-df-spinner');\n",
              "      quickchartButtonEl.classList.add('colab-df-quickchart-complete');\n",
              "    }\n",
              "    (() => {\n",
              "      let quickchartButtonEl =\n",
              "        document.querySelector('#df-6f211cff-0a79-4529-8df6-7caf835fae88 button');\n",
              "      quickchartButtonEl.style.display =\n",
              "        google.colab.kernel.accessAllowed ? 'block' : 'none';\n",
              "    })();\n",
              "  </script>\n",
              "</div>\n",
              "    </div>\n",
              "  </div>\n"
            ],
            "application/vnd.google.colaboratory.intrinsic+json": {
              "type": "dataframe",
              "variable_name": "reviews",
              "summary": "{\n  \"name\": \"reviews\",\n  \"rows\": 10000,\n  \"fields\": [\n    {\n      \"column\": \"Unnamed: 0\",\n      \"properties\": {\n        \"dtype\": \"number\",\n        \"std\": 2886,\n        \"min\": 0,\n        \"max\": 9999,\n        \"num_unique_values\": 10000,\n        \"samples\": [\n          6252,\n          4684,\n          1731\n        ],\n        \"semantic_type\": \"\",\n        \"description\": \"\"\n      }\n    },\n    {\n      \"column\": \"Text\",\n      \"properties\": {\n        \"dtype\": \"string\",\n        \"num_unique_values\": 9970,\n        \"samples\": [\n          \"\\u043e\\u0442\\u043b\\u0438\\u0447\\u043d\\u044b\\u0439 \\u0442\\u0435\\u043b\\u0435\\u0444\\u043e\\u043d \\u043f\\u043e \\u0432\\u0441\\u0435\\u043c \\u043f\\u0430\\u0440\\u0430\\u043c\\u0435\\u0442\\u0440\\u0430\\u043c. \\u0434\\u043e \\u0438\\u0434\\u0435\\u0430\\u043b\\u0430 \\u043d\\u0435 \\u0434\\u043e\\u0442\\u044f\\u0433\\u0438\\u0432\\u0430\\u0435\\u0442 \\u043b\\u0438\\u0448\\u044c \\u0438\\u0437-\\u0437\\u0430 \\u043a\\u0430\\u043c\\u0435\\u0440\\u044b...\",\n          \"\\u041f\\u0430\\u0440\\u043a \\u043d\\u0435 \\u0440\\u0435\\u0430\\u043b\\u044c\\u043d\\u043e \\u0431\\u043e\\u043b\\u044c\\u0448\\u043e\\u0439, \\u0432\\u0445\\u043e\\u0434 \\u0431\\u0435\\u0441\\u043f\\u043b\\u0430\\u0442\\u043d\\u044b\\u0439. \\u041d\\u0430 \\u0442\\u0435\\u0440\\u0440\\u0438\\u0442\\u043e\\u0440\\u0438\\u0438 \\u0435\\u0441\\u0442\\u044c \\u043a\\u0430\\u0444\\u0435. \\u0426\\u0435\\u043d\\u044b \\u0437\\u0430\\u0432\\u044b\\u0448\\u0435\\u043d\\u044b \\u0442\\u0430\\u043a \\u043a\\u0430\\u043a \\u043e\\u043d\\u043e \\u043e\\u0434\\u043d\\u043e, \\u0436\\u0435\\u043b\\u0430\\u044e\\u0449\\u0438\\u0445 \\u043f\\u043e\\u0441\\u0438\\u0434\\u0435\\u0442\\u044c \\u0438 \\u0436\\u0434\\u0430\\u0442\\u044c \\u0448\\u043e\\u0443 \\u043c\\u043d\\u043e\\u0433\\u043e. \\u041d\\u0430 \\u0442\\u0435\\u0440\\u0440\\u0438\\u0442\\u043e\\u0440\\u0438\\u0438 \\u0435\\u0441\\u0442\\u044c \\u043a\\u0430\\u0447\\u0435\\u043b\\u0438 \\u0434\\u043b\\u044f \\u0434\\u0435\\u0442\\u0435\\u0439. \\u0414\\u0435\\u043a\\u043e\\u0440\\u0430\\u0446\\u0438\\u0438 \\u0438 \\u043f\\u043e\\u0434\\u0441\\u0432\\u0435\\u0442\\u043a\\u0430 \\u043d\\u0430 \\u0432\\u044b\\u0441\\u043e\\u0442\\u0435. \\u041d\\u0430\\u043f\\u043b\\u044b\\u0432 \\u0442\\u0443\\u0440\\u0438\\u0441\\u0442\\u043e\\u0432 \\u043d\\u0430\\u0447\\u0438\\u043d\\u0430\\u0435\\u0442\\u0441\\u044f \\u0441 19.00. \\u041f\\u0440\\u043e\\u0441\\u0442\\u043e \\u043a\\u0430\\u043a \\u0432 \\u043c\\u0443\\u0440\\u0430\\u0432\\u0435\\u0439\\u043d\\u0438\\u043a\\u0435. \\u0428\\u043e\\u0443 \\u043d\\u0430\\u0447\\u0438\\u043d\\u0430\\u0435\\u0442\\u0441\\u044f \\u0432 20.00, \\u0434\\u043b\\u0438\\u0442\\u0441\\u044f 10-12 \\u043c\\u0438\\u043d, \\u043f\\u0435\\u0440\\u0435\\u0440\\u044b\\u0432 5-7 \\u043c\\u0438\\u043d \\u0438 \\u043f\\u043e \\u043d\\u043e\\u0432\\u043e\\u0439. \\u041e\\u0447\\u0435\\u043d\\u044c \\u043a\\u0440\\u0430\\u0441\\u0438\\u0432\\u043e, \\u0437\\u0430\\u0432\\u043e\\u0440\\u0430\\u0436\\u0438\\u0432\\u0430\\u044e\\u0449\\u0435, \\u043d\\u043e \\u043f\\u043e\\u0441\\u043c\\u043e\\u0442\\u0440\\u0435\\u0432 \\u0440\\u043e\\u043b\\u0438\\u043a \\u0432 \\u0438\\u043d\\u0435\\u0442\\u0435 \\u0438 \\u0441\\u0440\\u0430\\u0432\\u043d\\u0438\\u0442\\u044c \\u0442\\u043e \\u0447\\u0442\\u043e \\u0435\\u0441\\u0442\\u044c, \\u043e\\u0436\\u0438\\u0434\\u0430\\u043d\\u0438\\u0435 \\u043d\\u0435 \\u043f\\u0440\\u0435\\u0432\\u0437\\u043e\\u0448\\u043b\\u043e \\u0441\\u0435\\u0431\\u044f. \\u0410 \\u0442\\u0430\\u043a \\u0441\\u043e\\u0432\\u0435\\u0442\\u0443\\u044e. \\u041d\\u043e \\u043f\\u043e\\u0431\\u044b\\u0432\\u0430\\u0432 \\u0432 \\u0414\\u0435\\u0440\\u0431\\u0435\\u043d\\u0442\\u0435 \\u043e\\u0431\\u044f\\u0437\\u0430\\u0442\\u0435\\u043b\\u044c\\u043d\\u043e \\u043f\\u043e\\u0441\\u0435\\u0442\\u0438\\u0442\\u0435. \\u0415\\u0434\\u0438\\u043d\\u0441\\u0442\\u0432\\u0435\\u043d\\u043d\\u044b\\u0439 \\u043c\\u0438\\u043d\\u0443\\u0441 \\u044d\\u0442\\u043e \\u043f\\u0430\\u0440\\u043a\\u043e\\u0432\\u043a\\u0430 \\u0430\\u0432\\u0442\\u043e. \\u041f\\u0440\\u0438\\u0434\\u0451\\u0442\\u0441\\u044f \\u043e\\u0441\\u0442\\u0430\\u0432\\u043b\\u044f\\u0442\\u044c \\u0430\\u0432\\u0442\\u043e \\u0434\\u0430\\u043b\\u044c\\u0448\\u0435 \\u043e\\u0442 \\u043f\\u0430\\u0440\\u043a\\u0430, \\u0442\\u0430\\u043a \\u043a\\u0430\\u043a \\u043f\\u043e\\u0441\\u043b\\u0435 \\u043d\\u0435 \\u0432\\u044b\\u0435\\u0445\\u0430\\u0442\\u044c, \\u043f\\u0435\\u0440\\u0435\\u043a\\u0440\\u044b\\u0432\\u0430\\u044e\\u0442 \\u0432\\u044b\\u0435\\u0437\\u0434 \\u0434\\u0440\\u0443\\u0433\\u0438\\u0435 \\u0430\\u0432\\u0442\\u043e.\\n\",\n          \"\\u0446\\u0435\\u043d\\u044b \\u043f\\u0440\\u0438\\u0435\\u043c\\u043b\\u0438\\u043c\\u044b\\u0435,\\u0441\\u0434\\u0435\\u043b\\u0430\\u043d\\u043e \\u0432\\u0441\\u0451 \\u043a\\u0430\\u0447\\u0435\\u0441\\u0442\\u0432\\u0435\\u043d\\u043d\\u043e \\u0438 \\u0431\\u044b\\u0441\\u0442\\u0440\\u043e. \\u0432\\u0435\\u0436\\u043b\\u0438\\u0432\\u044b\\u0435 \\u0434\\u0438\\u0441\\u043f\\u0435\\u0442\\u0447\\u0435\\u0440\\u044b,\\u0430 \\u0442\\u0430\\u043a \\u0436\\u0435 \\u043a\\u043e\\u043c\\u043f\\u0435\\u0442\\u0435\\u043d\\u0442\\u043d\\u044b\\u0435 \\u0441\\u043e\\u0442\\u0440\\u0443\\u0434\\u043d\\u0438\\u043a\\u0438. \\u043e\\u0447\\u0435\\u043d\\u044c \\u043f\\u0440\\u0438\\u044f\\u0442\\u043d\\u043e \\u0431\\u044b\\u043b\\u043e \\u0438\\u043c\\u0435\\u0442\\u044c \\u0434\\u0435\\u043b\\u043e \\u0441 \\u043a\\u043e\\u043c\\u043f\\u0430\\u043d\\u0438\\u0435\\u0439 \\\"\\u0410\\u043a\\u0432\\u0430\\u0442\\u0435\\u0445\\u043d\\u0438\\u043a\\\". \\u0440\\u0435\\u043a\\u043e\\u043c\\u0435\\u043d\\u0434\\u0443\\u044e!\\n\"\n        ],\n        \"semantic_type\": \"\",\n        \"description\": \"\"\n      }\n    },\n    {\n      \"column\": \"Score\",\n      \"properties\": {\n        \"dtype\": \"number\",\n        \"std\": 0,\n        \"min\": 0,\n        \"max\": 2,\n        \"num_unique_values\": 3,\n        \"samples\": [\n          2,\n          1,\n          0\n        ],\n        \"semantic_type\": \"\",\n        \"description\": \"\"\n      }\n    }\n  ]\n}"
            }
          },
          "metadata": {},
          "execution_count": 9
        }
      ]
    },
    {
      "cell_type": "markdown",
      "source": [
        "Переиндексация"
      ],
      "metadata": {
        "id": "2c-HxEE6nc57"
      }
    },
    {
      "cell_type": "code",
      "source": [
        "reviews.reset_index(drop=True)"
      ],
      "metadata": {
        "id": "_pnn7jwPnfVx",
        "colab": {
          "base_uri": "https://localhost:8080/",
          "height": 424
        },
        "outputId": "e61bdf66-1e6d-4407-d6e3-03f3e819cad3"
      },
      "execution_count": 10,
      "outputs": [
        {
          "output_type": "execute_result",
          "data": {
            "text/plain": [
              "      Unnamed: 0                                               Text  Score\n",
              "0              0  Лучшая детская парикмахерская! А чего стоят си...      2\n",
              "1              1  Ребята, советую брать если нужен телефон на дв...      2\n",
              "2              2  Единственный минус что нет фуд кортов и мало м...      2\n",
              "3              3  Красивый храм. Расположен правда не на \" ходу\"...      2\n",
              "4              4  Очень люблю этот супермаркет, всегда чисто, хо...      2\n",
              "...          ...                                                ...    ...\n",
              "9995        9995  Сенсор ужасный - уйма ложных срабатываний, вме...      1\n",
              "9996        9996  Атмосферное место с нормальными ребятами! Гост...      0\n",
              "9997        9997  Радует то, что я его купил за 16500, а не за 2...      1\n",
              "9998        9998  Нужен был ТЕЛЕФОН(для всего остального есть iP...      2\n",
              "9999        9999  Огромная благодарность Анастасии!!! Владелеце ...      0\n",
              "\n",
              "[10000 rows x 3 columns]"
            ],
            "text/html": [
              "\n",
              "  <div id=\"df-b86fbd29-2e00-4fc5-aef5-4d412e3fa298\" class=\"colab-df-container\">\n",
              "    <div>\n",
              "<style scoped>\n",
              "    .dataframe tbody tr th:only-of-type {\n",
              "        vertical-align: middle;\n",
              "    }\n",
              "\n",
              "    .dataframe tbody tr th {\n",
              "        vertical-align: top;\n",
              "    }\n",
              "\n",
              "    .dataframe thead th {\n",
              "        text-align: right;\n",
              "    }\n",
              "</style>\n",
              "<table border=\"1\" class=\"dataframe\">\n",
              "  <thead>\n",
              "    <tr style=\"text-align: right;\">\n",
              "      <th></th>\n",
              "      <th>Unnamed: 0</th>\n",
              "      <th>Text</th>\n",
              "      <th>Score</th>\n",
              "    </tr>\n",
              "  </thead>\n",
              "  <tbody>\n",
              "    <tr>\n",
              "      <th>0</th>\n",
              "      <td>0</td>\n",
              "      <td>Лучшая детская парикмахерская! А чего стоят си...</td>\n",
              "      <td>2</td>\n",
              "    </tr>\n",
              "    <tr>\n",
              "      <th>1</th>\n",
              "      <td>1</td>\n",
              "      <td>Ребята, советую брать если нужен телефон на дв...</td>\n",
              "      <td>2</td>\n",
              "    </tr>\n",
              "    <tr>\n",
              "      <th>2</th>\n",
              "      <td>2</td>\n",
              "      <td>Единственный минус что нет фуд кортов и мало м...</td>\n",
              "      <td>2</td>\n",
              "    </tr>\n",
              "    <tr>\n",
              "      <th>3</th>\n",
              "      <td>3</td>\n",
              "      <td>Красивый храм. Расположен правда не на \" ходу\"...</td>\n",
              "      <td>2</td>\n",
              "    </tr>\n",
              "    <tr>\n",
              "      <th>4</th>\n",
              "      <td>4</td>\n",
              "      <td>Очень люблю этот супермаркет, всегда чисто, хо...</td>\n",
              "      <td>2</td>\n",
              "    </tr>\n",
              "    <tr>\n",
              "      <th>...</th>\n",
              "      <td>...</td>\n",
              "      <td>...</td>\n",
              "      <td>...</td>\n",
              "    </tr>\n",
              "    <tr>\n",
              "      <th>9995</th>\n",
              "      <td>9995</td>\n",
              "      <td>Сенсор ужасный - уйма ложных срабатываний, вме...</td>\n",
              "      <td>1</td>\n",
              "    </tr>\n",
              "    <tr>\n",
              "      <th>9996</th>\n",
              "      <td>9996</td>\n",
              "      <td>Атмосферное место с нормальными ребятами! Гост...</td>\n",
              "      <td>0</td>\n",
              "    </tr>\n",
              "    <tr>\n",
              "      <th>9997</th>\n",
              "      <td>9997</td>\n",
              "      <td>Радует то, что я его купил за 16500, а не за 2...</td>\n",
              "      <td>1</td>\n",
              "    </tr>\n",
              "    <tr>\n",
              "      <th>9998</th>\n",
              "      <td>9998</td>\n",
              "      <td>Нужен был ТЕЛЕФОН(для всего остального есть iP...</td>\n",
              "      <td>2</td>\n",
              "    </tr>\n",
              "    <tr>\n",
              "      <th>9999</th>\n",
              "      <td>9999</td>\n",
              "      <td>Огромная благодарность Анастасии!!! Владелеце ...</td>\n",
              "      <td>0</td>\n",
              "    </tr>\n",
              "  </tbody>\n",
              "</table>\n",
              "<p>10000 rows × 3 columns</p>\n",
              "</div>\n",
              "    <div class=\"colab-df-buttons\">\n",
              "\n",
              "  <div class=\"colab-df-container\">\n",
              "    <button class=\"colab-df-convert\" onclick=\"convertToInteractive('df-b86fbd29-2e00-4fc5-aef5-4d412e3fa298')\"\n",
              "            title=\"Convert this dataframe to an interactive table.\"\n",
              "            style=\"display:none;\">\n",
              "\n",
              "  <svg xmlns=\"http://www.w3.org/2000/svg\" height=\"24px\" viewBox=\"0 -960 960 960\">\n",
              "    <path d=\"M120-120v-720h720v720H120Zm60-500h600v-160H180v160Zm220 220h160v-160H400v160Zm0 220h160v-160H400v160ZM180-400h160v-160H180v160Zm440 0h160v-160H620v160ZM180-180h160v-160H180v160Zm440 0h160v-160H620v160Z\"/>\n",
              "  </svg>\n",
              "    </button>\n",
              "\n",
              "  <style>\n",
              "    .colab-df-container {\n",
              "      display:flex;\n",
              "      gap: 12px;\n",
              "    }\n",
              "\n",
              "    .colab-df-convert {\n",
              "      background-color: #E8F0FE;\n",
              "      border: none;\n",
              "      border-radius: 50%;\n",
              "      cursor: pointer;\n",
              "      display: none;\n",
              "      fill: #1967D2;\n",
              "      height: 32px;\n",
              "      padding: 0 0 0 0;\n",
              "      width: 32px;\n",
              "    }\n",
              "\n",
              "    .colab-df-convert:hover {\n",
              "      background-color: #E2EBFA;\n",
              "      box-shadow: 0px 1px 2px rgba(60, 64, 67, 0.3), 0px 1px 3px 1px rgba(60, 64, 67, 0.15);\n",
              "      fill: #174EA6;\n",
              "    }\n",
              "\n",
              "    .colab-df-buttons div {\n",
              "      margin-bottom: 4px;\n",
              "    }\n",
              "\n",
              "    [theme=dark] .colab-df-convert {\n",
              "      background-color: #3B4455;\n",
              "      fill: #D2E3FC;\n",
              "    }\n",
              "\n",
              "    [theme=dark] .colab-df-convert:hover {\n",
              "      background-color: #434B5C;\n",
              "      box-shadow: 0px 1px 3px 1px rgba(0, 0, 0, 0.15);\n",
              "      filter: drop-shadow(0px 1px 2px rgba(0, 0, 0, 0.3));\n",
              "      fill: #FFFFFF;\n",
              "    }\n",
              "  </style>\n",
              "\n",
              "    <script>\n",
              "      const buttonEl =\n",
              "        document.querySelector('#df-b86fbd29-2e00-4fc5-aef5-4d412e3fa298 button.colab-df-convert');\n",
              "      buttonEl.style.display =\n",
              "        google.colab.kernel.accessAllowed ? 'block' : 'none';\n",
              "\n",
              "      async function convertToInteractive(key) {\n",
              "        const element = document.querySelector('#df-b86fbd29-2e00-4fc5-aef5-4d412e3fa298');\n",
              "        const dataTable =\n",
              "          await google.colab.kernel.invokeFunction('convertToInteractive',\n",
              "                                                    [key], {});\n",
              "        if (!dataTable) return;\n",
              "\n",
              "        const docLinkHtml = 'Like what you see? Visit the ' +\n",
              "          '<a target=\"_blank\" href=https://colab.research.google.com/notebooks/data_table.ipynb>data table notebook</a>'\n",
              "          + ' to learn more about interactive tables.';\n",
              "        element.innerHTML = '';\n",
              "        dataTable['output_type'] = 'display_data';\n",
              "        await google.colab.output.renderOutput(dataTable, element);\n",
              "        const docLink = document.createElement('div');\n",
              "        docLink.innerHTML = docLinkHtml;\n",
              "        element.appendChild(docLink);\n",
              "      }\n",
              "    </script>\n",
              "  </div>\n",
              "\n",
              "\n",
              "<div id=\"df-d7005cfa-c402-4203-b1d0-b8dfd8bda11c\">\n",
              "  <button class=\"colab-df-quickchart\" onclick=\"quickchart('df-d7005cfa-c402-4203-b1d0-b8dfd8bda11c')\"\n",
              "            title=\"Suggest charts\"\n",
              "            style=\"display:none;\">\n",
              "\n",
              "<svg xmlns=\"http://www.w3.org/2000/svg\" height=\"24px\"viewBox=\"0 0 24 24\"\n",
              "     width=\"24px\">\n",
              "    <g>\n",
              "        <path d=\"M19 3H5c-1.1 0-2 .9-2 2v14c0 1.1.9 2 2 2h14c1.1 0 2-.9 2-2V5c0-1.1-.9-2-2-2zM9 17H7v-7h2v7zm4 0h-2V7h2v10zm4 0h-2v-4h2v4z\"/>\n",
              "    </g>\n",
              "</svg>\n",
              "  </button>\n",
              "\n",
              "<style>\n",
              "  .colab-df-quickchart {\n",
              "      --bg-color: #E8F0FE;\n",
              "      --fill-color: #1967D2;\n",
              "      --hover-bg-color: #E2EBFA;\n",
              "      --hover-fill-color: #174EA6;\n",
              "      --disabled-fill-color: #AAA;\n",
              "      --disabled-bg-color: #DDD;\n",
              "  }\n",
              "\n",
              "  [theme=dark] .colab-df-quickchart {\n",
              "      --bg-color: #3B4455;\n",
              "      --fill-color: #D2E3FC;\n",
              "      --hover-bg-color: #434B5C;\n",
              "      --hover-fill-color: #FFFFFF;\n",
              "      --disabled-bg-color: #3B4455;\n",
              "      --disabled-fill-color: #666;\n",
              "  }\n",
              "\n",
              "  .colab-df-quickchart {\n",
              "    background-color: var(--bg-color);\n",
              "    border: none;\n",
              "    border-radius: 50%;\n",
              "    cursor: pointer;\n",
              "    display: none;\n",
              "    fill: var(--fill-color);\n",
              "    height: 32px;\n",
              "    padding: 0;\n",
              "    width: 32px;\n",
              "  }\n",
              "\n",
              "  .colab-df-quickchart:hover {\n",
              "    background-color: var(--hover-bg-color);\n",
              "    box-shadow: 0 1px 2px rgba(60, 64, 67, 0.3), 0 1px 3px 1px rgba(60, 64, 67, 0.15);\n",
              "    fill: var(--button-hover-fill-color);\n",
              "  }\n",
              "\n",
              "  .colab-df-quickchart-complete:disabled,\n",
              "  .colab-df-quickchart-complete:disabled:hover {\n",
              "    background-color: var(--disabled-bg-color);\n",
              "    fill: var(--disabled-fill-color);\n",
              "    box-shadow: none;\n",
              "  }\n",
              "\n",
              "  .colab-df-spinner {\n",
              "    border: 2px solid var(--fill-color);\n",
              "    border-color: transparent;\n",
              "    border-bottom-color: var(--fill-color);\n",
              "    animation:\n",
              "      spin 1s steps(1) infinite;\n",
              "  }\n",
              "\n",
              "  @keyframes spin {\n",
              "    0% {\n",
              "      border-color: transparent;\n",
              "      border-bottom-color: var(--fill-color);\n",
              "      border-left-color: var(--fill-color);\n",
              "    }\n",
              "    20% {\n",
              "      border-color: transparent;\n",
              "      border-left-color: var(--fill-color);\n",
              "      border-top-color: var(--fill-color);\n",
              "    }\n",
              "    30% {\n",
              "      border-color: transparent;\n",
              "      border-left-color: var(--fill-color);\n",
              "      border-top-color: var(--fill-color);\n",
              "      border-right-color: var(--fill-color);\n",
              "    }\n",
              "    40% {\n",
              "      border-color: transparent;\n",
              "      border-right-color: var(--fill-color);\n",
              "      border-top-color: var(--fill-color);\n",
              "    }\n",
              "    60% {\n",
              "      border-color: transparent;\n",
              "      border-right-color: var(--fill-color);\n",
              "    }\n",
              "    80% {\n",
              "      border-color: transparent;\n",
              "      border-right-color: var(--fill-color);\n",
              "      border-bottom-color: var(--fill-color);\n",
              "    }\n",
              "    90% {\n",
              "      border-color: transparent;\n",
              "      border-bottom-color: var(--fill-color);\n",
              "    }\n",
              "  }\n",
              "</style>\n",
              "\n",
              "  <script>\n",
              "    async function quickchart(key) {\n",
              "      const quickchartButtonEl =\n",
              "        document.querySelector('#' + key + ' button');\n",
              "      quickchartButtonEl.disabled = true;  // To prevent multiple clicks.\n",
              "      quickchartButtonEl.classList.add('colab-df-spinner');\n",
              "      try {\n",
              "        const charts = await google.colab.kernel.invokeFunction(\n",
              "            'suggestCharts', [key], {});\n",
              "      } catch (error) {\n",
              "        console.error('Error during call to suggestCharts:', error);\n",
              "      }\n",
              "      quickchartButtonEl.classList.remove('colab-df-spinner');\n",
              "      quickchartButtonEl.classList.add('colab-df-quickchart-complete');\n",
              "    }\n",
              "    (() => {\n",
              "      let quickchartButtonEl =\n",
              "        document.querySelector('#df-d7005cfa-c402-4203-b1d0-b8dfd8bda11c button');\n",
              "      quickchartButtonEl.style.display =\n",
              "        google.colab.kernel.accessAllowed ? 'block' : 'none';\n",
              "    })();\n",
              "  </script>\n",
              "</div>\n",
              "    </div>\n",
              "  </div>\n"
            ],
            "application/vnd.google.colaboratory.intrinsic+json": {
              "type": "dataframe",
              "summary": "{\n  \"name\": \"reviews\",\n  \"rows\": 10000,\n  \"fields\": [\n    {\n      \"column\": \"Unnamed: 0\",\n      \"properties\": {\n        \"dtype\": \"number\",\n        \"std\": 2886,\n        \"min\": 0,\n        \"max\": 9999,\n        \"num_unique_values\": 10000,\n        \"samples\": [\n          6252,\n          4684,\n          1731\n        ],\n        \"semantic_type\": \"\",\n        \"description\": \"\"\n      }\n    },\n    {\n      \"column\": \"Text\",\n      \"properties\": {\n        \"dtype\": \"string\",\n        \"num_unique_values\": 9970,\n        \"samples\": [\n          \"\\u043e\\u0442\\u043b\\u0438\\u0447\\u043d\\u044b\\u0439 \\u0442\\u0435\\u043b\\u0435\\u0444\\u043e\\u043d \\u043f\\u043e \\u0432\\u0441\\u0435\\u043c \\u043f\\u0430\\u0440\\u0430\\u043c\\u0435\\u0442\\u0440\\u0430\\u043c. \\u0434\\u043e \\u0438\\u0434\\u0435\\u0430\\u043b\\u0430 \\u043d\\u0435 \\u0434\\u043e\\u0442\\u044f\\u0433\\u0438\\u0432\\u0430\\u0435\\u0442 \\u043b\\u0438\\u0448\\u044c \\u0438\\u0437-\\u0437\\u0430 \\u043a\\u0430\\u043c\\u0435\\u0440\\u044b...\",\n          \"\\u041f\\u0430\\u0440\\u043a \\u043d\\u0435 \\u0440\\u0435\\u0430\\u043b\\u044c\\u043d\\u043e \\u0431\\u043e\\u043b\\u044c\\u0448\\u043e\\u0439, \\u0432\\u0445\\u043e\\u0434 \\u0431\\u0435\\u0441\\u043f\\u043b\\u0430\\u0442\\u043d\\u044b\\u0439. \\u041d\\u0430 \\u0442\\u0435\\u0440\\u0440\\u0438\\u0442\\u043e\\u0440\\u0438\\u0438 \\u0435\\u0441\\u0442\\u044c \\u043a\\u0430\\u0444\\u0435. \\u0426\\u0435\\u043d\\u044b \\u0437\\u0430\\u0432\\u044b\\u0448\\u0435\\u043d\\u044b \\u0442\\u0430\\u043a \\u043a\\u0430\\u043a \\u043e\\u043d\\u043e \\u043e\\u0434\\u043d\\u043e, \\u0436\\u0435\\u043b\\u0430\\u044e\\u0449\\u0438\\u0445 \\u043f\\u043e\\u0441\\u0438\\u0434\\u0435\\u0442\\u044c \\u0438 \\u0436\\u0434\\u0430\\u0442\\u044c \\u0448\\u043e\\u0443 \\u043c\\u043d\\u043e\\u0433\\u043e. \\u041d\\u0430 \\u0442\\u0435\\u0440\\u0440\\u0438\\u0442\\u043e\\u0440\\u0438\\u0438 \\u0435\\u0441\\u0442\\u044c \\u043a\\u0430\\u0447\\u0435\\u043b\\u0438 \\u0434\\u043b\\u044f \\u0434\\u0435\\u0442\\u0435\\u0439. \\u0414\\u0435\\u043a\\u043e\\u0440\\u0430\\u0446\\u0438\\u0438 \\u0438 \\u043f\\u043e\\u0434\\u0441\\u0432\\u0435\\u0442\\u043a\\u0430 \\u043d\\u0430 \\u0432\\u044b\\u0441\\u043e\\u0442\\u0435. \\u041d\\u0430\\u043f\\u043b\\u044b\\u0432 \\u0442\\u0443\\u0440\\u0438\\u0441\\u0442\\u043e\\u0432 \\u043d\\u0430\\u0447\\u0438\\u043d\\u0430\\u0435\\u0442\\u0441\\u044f \\u0441 19.00. \\u041f\\u0440\\u043e\\u0441\\u0442\\u043e \\u043a\\u0430\\u043a \\u0432 \\u043c\\u0443\\u0440\\u0430\\u0432\\u0435\\u0439\\u043d\\u0438\\u043a\\u0435. \\u0428\\u043e\\u0443 \\u043d\\u0430\\u0447\\u0438\\u043d\\u0430\\u0435\\u0442\\u0441\\u044f \\u0432 20.00, \\u0434\\u043b\\u0438\\u0442\\u0441\\u044f 10-12 \\u043c\\u0438\\u043d, \\u043f\\u0435\\u0440\\u0435\\u0440\\u044b\\u0432 5-7 \\u043c\\u0438\\u043d \\u0438 \\u043f\\u043e \\u043d\\u043e\\u0432\\u043e\\u0439. \\u041e\\u0447\\u0435\\u043d\\u044c \\u043a\\u0440\\u0430\\u0441\\u0438\\u0432\\u043e, \\u0437\\u0430\\u0432\\u043e\\u0440\\u0430\\u0436\\u0438\\u0432\\u0430\\u044e\\u0449\\u0435, \\u043d\\u043e \\u043f\\u043e\\u0441\\u043c\\u043e\\u0442\\u0440\\u0435\\u0432 \\u0440\\u043e\\u043b\\u0438\\u043a \\u0432 \\u0438\\u043d\\u0435\\u0442\\u0435 \\u0438 \\u0441\\u0440\\u0430\\u0432\\u043d\\u0438\\u0442\\u044c \\u0442\\u043e \\u0447\\u0442\\u043e \\u0435\\u0441\\u0442\\u044c, \\u043e\\u0436\\u0438\\u0434\\u0430\\u043d\\u0438\\u0435 \\u043d\\u0435 \\u043f\\u0440\\u0435\\u0432\\u0437\\u043e\\u0448\\u043b\\u043e \\u0441\\u0435\\u0431\\u044f. \\u0410 \\u0442\\u0430\\u043a \\u0441\\u043e\\u0432\\u0435\\u0442\\u0443\\u044e. \\u041d\\u043e \\u043f\\u043e\\u0431\\u044b\\u0432\\u0430\\u0432 \\u0432 \\u0414\\u0435\\u0440\\u0431\\u0435\\u043d\\u0442\\u0435 \\u043e\\u0431\\u044f\\u0437\\u0430\\u0442\\u0435\\u043b\\u044c\\u043d\\u043e \\u043f\\u043e\\u0441\\u0435\\u0442\\u0438\\u0442\\u0435. \\u0415\\u0434\\u0438\\u043d\\u0441\\u0442\\u0432\\u0435\\u043d\\u043d\\u044b\\u0439 \\u043c\\u0438\\u043d\\u0443\\u0441 \\u044d\\u0442\\u043e \\u043f\\u0430\\u0440\\u043a\\u043e\\u0432\\u043a\\u0430 \\u0430\\u0432\\u0442\\u043e. \\u041f\\u0440\\u0438\\u0434\\u0451\\u0442\\u0441\\u044f \\u043e\\u0441\\u0442\\u0430\\u0432\\u043b\\u044f\\u0442\\u044c \\u0430\\u0432\\u0442\\u043e \\u0434\\u0430\\u043b\\u044c\\u0448\\u0435 \\u043e\\u0442 \\u043f\\u0430\\u0440\\u043a\\u0430, \\u0442\\u0430\\u043a \\u043a\\u0430\\u043a \\u043f\\u043e\\u0441\\u043b\\u0435 \\u043d\\u0435 \\u0432\\u044b\\u0435\\u0445\\u0430\\u0442\\u044c, \\u043f\\u0435\\u0440\\u0435\\u043a\\u0440\\u044b\\u0432\\u0430\\u044e\\u0442 \\u0432\\u044b\\u0435\\u0437\\u0434 \\u0434\\u0440\\u0443\\u0433\\u0438\\u0435 \\u0430\\u0432\\u0442\\u043e.\\n\",\n          \"\\u0446\\u0435\\u043d\\u044b \\u043f\\u0440\\u0438\\u0435\\u043c\\u043b\\u0438\\u043c\\u044b\\u0435,\\u0441\\u0434\\u0435\\u043b\\u0430\\u043d\\u043e \\u0432\\u0441\\u0451 \\u043a\\u0430\\u0447\\u0435\\u0441\\u0442\\u0432\\u0435\\u043d\\u043d\\u043e \\u0438 \\u0431\\u044b\\u0441\\u0442\\u0440\\u043e. \\u0432\\u0435\\u0436\\u043b\\u0438\\u0432\\u044b\\u0435 \\u0434\\u0438\\u0441\\u043f\\u0435\\u0442\\u0447\\u0435\\u0440\\u044b,\\u0430 \\u0442\\u0430\\u043a \\u0436\\u0435 \\u043a\\u043e\\u043c\\u043f\\u0435\\u0442\\u0435\\u043d\\u0442\\u043d\\u044b\\u0435 \\u0441\\u043e\\u0442\\u0440\\u0443\\u0434\\u043d\\u0438\\u043a\\u0438. \\u043e\\u0447\\u0435\\u043d\\u044c \\u043f\\u0440\\u0438\\u044f\\u0442\\u043d\\u043e \\u0431\\u044b\\u043b\\u043e \\u0438\\u043c\\u0435\\u0442\\u044c \\u0434\\u0435\\u043b\\u043e \\u0441 \\u043a\\u043e\\u043c\\u043f\\u0430\\u043d\\u0438\\u0435\\u0439 \\\"\\u0410\\u043a\\u0432\\u0430\\u0442\\u0435\\u0445\\u043d\\u0438\\u043a\\\". \\u0440\\u0435\\u043a\\u043e\\u043c\\u0435\\u043d\\u0434\\u0443\\u044e!\\n\"\n        ],\n        \"semantic_type\": \"\",\n        \"description\": \"\"\n      }\n    },\n    {\n      \"column\": \"Score\",\n      \"properties\": {\n        \"dtype\": \"number\",\n        \"std\": 0,\n        \"min\": 0,\n        \"max\": 2,\n        \"num_unique_values\": 3,\n        \"samples\": [\n          2,\n          1,\n          0\n        ],\n        \"semantic_type\": \"\",\n        \"description\": \"\"\n      }\n    }\n  ]\n}"
            }
          },
          "metadata": {},
          "execution_count": 10
        }
      ]
    },
    {
      "cell_type": "markdown",
      "source": [
        "Удаление пустых столбцов"
      ],
      "metadata": {
        "id": "nptwdKXNmLbU"
      }
    },
    {
      "cell_type": "code",
      "source": [
        "reviews = reviews[['Text', 'Score']]\n",
        "reviews"
      ],
      "metadata": {
        "id": "sz_mmbD6mRx9",
        "colab": {
          "base_uri": "https://localhost:8080/",
          "height": 424
        },
        "outputId": "09211ee8-a1b8-4cab-e118-02752d944c3a"
      },
      "execution_count": 11,
      "outputs": [
        {
          "output_type": "execute_result",
          "data": {
            "text/plain": [
              "                                                   Text  Score\n",
              "0     Лучшая детская парикмахерская! А чего стоят си...      2\n",
              "1     Ребята, советую брать если нужен телефон на дв...      2\n",
              "2     Единственный минус что нет фуд кортов и мало м...      2\n",
              "3     Красивый храм. Расположен правда не на \" ходу\"...      2\n",
              "4     Очень люблю этот супермаркет, всегда чисто, хо...      2\n",
              "...                                                 ...    ...\n",
              "9995  Сенсор ужасный - уйма ложных срабатываний, вме...      1\n",
              "9996  Атмосферное место с нормальными ребятами! Гост...      0\n",
              "9997  Радует то, что я его купил за 16500, а не за 2...      1\n",
              "9998  Нужен был ТЕЛЕФОН(для всего остального есть iP...      2\n",
              "9999  Огромная благодарность Анастасии!!! Владелеце ...      0\n",
              "\n",
              "[10000 rows x 2 columns]"
            ],
            "text/html": [
              "\n",
              "  <div id=\"df-6473de1f-bca0-47ea-aa27-b960266f83af\" class=\"colab-df-container\">\n",
              "    <div>\n",
              "<style scoped>\n",
              "    .dataframe tbody tr th:only-of-type {\n",
              "        vertical-align: middle;\n",
              "    }\n",
              "\n",
              "    .dataframe tbody tr th {\n",
              "        vertical-align: top;\n",
              "    }\n",
              "\n",
              "    .dataframe thead th {\n",
              "        text-align: right;\n",
              "    }\n",
              "</style>\n",
              "<table border=\"1\" class=\"dataframe\">\n",
              "  <thead>\n",
              "    <tr style=\"text-align: right;\">\n",
              "      <th></th>\n",
              "      <th>Text</th>\n",
              "      <th>Score</th>\n",
              "    </tr>\n",
              "  </thead>\n",
              "  <tbody>\n",
              "    <tr>\n",
              "      <th>0</th>\n",
              "      <td>Лучшая детская парикмахерская! А чего стоят си...</td>\n",
              "      <td>2</td>\n",
              "    </tr>\n",
              "    <tr>\n",
              "      <th>1</th>\n",
              "      <td>Ребята, советую брать если нужен телефон на дв...</td>\n",
              "      <td>2</td>\n",
              "    </tr>\n",
              "    <tr>\n",
              "      <th>2</th>\n",
              "      <td>Единственный минус что нет фуд кортов и мало м...</td>\n",
              "      <td>2</td>\n",
              "    </tr>\n",
              "    <tr>\n",
              "      <th>3</th>\n",
              "      <td>Красивый храм. Расположен правда не на \" ходу\"...</td>\n",
              "      <td>2</td>\n",
              "    </tr>\n",
              "    <tr>\n",
              "      <th>4</th>\n",
              "      <td>Очень люблю этот супермаркет, всегда чисто, хо...</td>\n",
              "      <td>2</td>\n",
              "    </tr>\n",
              "    <tr>\n",
              "      <th>...</th>\n",
              "      <td>...</td>\n",
              "      <td>...</td>\n",
              "    </tr>\n",
              "    <tr>\n",
              "      <th>9995</th>\n",
              "      <td>Сенсор ужасный - уйма ложных срабатываний, вме...</td>\n",
              "      <td>1</td>\n",
              "    </tr>\n",
              "    <tr>\n",
              "      <th>9996</th>\n",
              "      <td>Атмосферное место с нормальными ребятами! Гост...</td>\n",
              "      <td>0</td>\n",
              "    </tr>\n",
              "    <tr>\n",
              "      <th>9997</th>\n",
              "      <td>Радует то, что я его купил за 16500, а не за 2...</td>\n",
              "      <td>1</td>\n",
              "    </tr>\n",
              "    <tr>\n",
              "      <th>9998</th>\n",
              "      <td>Нужен был ТЕЛЕФОН(для всего остального есть iP...</td>\n",
              "      <td>2</td>\n",
              "    </tr>\n",
              "    <tr>\n",
              "      <th>9999</th>\n",
              "      <td>Огромная благодарность Анастасии!!! Владелеце ...</td>\n",
              "      <td>0</td>\n",
              "    </tr>\n",
              "  </tbody>\n",
              "</table>\n",
              "<p>10000 rows × 2 columns</p>\n",
              "</div>\n",
              "    <div class=\"colab-df-buttons\">\n",
              "\n",
              "  <div class=\"colab-df-container\">\n",
              "    <button class=\"colab-df-convert\" onclick=\"convertToInteractive('df-6473de1f-bca0-47ea-aa27-b960266f83af')\"\n",
              "            title=\"Convert this dataframe to an interactive table.\"\n",
              "            style=\"display:none;\">\n",
              "\n",
              "  <svg xmlns=\"http://www.w3.org/2000/svg\" height=\"24px\" viewBox=\"0 -960 960 960\">\n",
              "    <path d=\"M120-120v-720h720v720H120Zm60-500h600v-160H180v160Zm220 220h160v-160H400v160Zm0 220h160v-160H400v160ZM180-400h160v-160H180v160Zm440 0h160v-160H620v160ZM180-180h160v-160H180v160Zm440 0h160v-160H620v160Z\"/>\n",
              "  </svg>\n",
              "    </button>\n",
              "\n",
              "  <style>\n",
              "    .colab-df-container {\n",
              "      display:flex;\n",
              "      gap: 12px;\n",
              "    }\n",
              "\n",
              "    .colab-df-convert {\n",
              "      background-color: #E8F0FE;\n",
              "      border: none;\n",
              "      border-radius: 50%;\n",
              "      cursor: pointer;\n",
              "      display: none;\n",
              "      fill: #1967D2;\n",
              "      height: 32px;\n",
              "      padding: 0 0 0 0;\n",
              "      width: 32px;\n",
              "    }\n",
              "\n",
              "    .colab-df-convert:hover {\n",
              "      background-color: #E2EBFA;\n",
              "      box-shadow: 0px 1px 2px rgba(60, 64, 67, 0.3), 0px 1px 3px 1px rgba(60, 64, 67, 0.15);\n",
              "      fill: #174EA6;\n",
              "    }\n",
              "\n",
              "    .colab-df-buttons div {\n",
              "      margin-bottom: 4px;\n",
              "    }\n",
              "\n",
              "    [theme=dark] .colab-df-convert {\n",
              "      background-color: #3B4455;\n",
              "      fill: #D2E3FC;\n",
              "    }\n",
              "\n",
              "    [theme=dark] .colab-df-convert:hover {\n",
              "      background-color: #434B5C;\n",
              "      box-shadow: 0px 1px 3px 1px rgba(0, 0, 0, 0.15);\n",
              "      filter: drop-shadow(0px 1px 2px rgba(0, 0, 0, 0.3));\n",
              "      fill: #FFFFFF;\n",
              "    }\n",
              "  </style>\n",
              "\n",
              "    <script>\n",
              "      const buttonEl =\n",
              "        document.querySelector('#df-6473de1f-bca0-47ea-aa27-b960266f83af button.colab-df-convert');\n",
              "      buttonEl.style.display =\n",
              "        google.colab.kernel.accessAllowed ? 'block' : 'none';\n",
              "\n",
              "      async function convertToInteractive(key) {\n",
              "        const element = document.querySelector('#df-6473de1f-bca0-47ea-aa27-b960266f83af');\n",
              "        const dataTable =\n",
              "          await google.colab.kernel.invokeFunction('convertToInteractive',\n",
              "                                                    [key], {});\n",
              "        if (!dataTable) return;\n",
              "\n",
              "        const docLinkHtml = 'Like what you see? Visit the ' +\n",
              "          '<a target=\"_blank\" href=https://colab.research.google.com/notebooks/data_table.ipynb>data table notebook</a>'\n",
              "          + ' to learn more about interactive tables.';\n",
              "        element.innerHTML = '';\n",
              "        dataTable['output_type'] = 'display_data';\n",
              "        await google.colab.output.renderOutput(dataTable, element);\n",
              "        const docLink = document.createElement('div');\n",
              "        docLink.innerHTML = docLinkHtml;\n",
              "        element.appendChild(docLink);\n",
              "      }\n",
              "    </script>\n",
              "  </div>\n",
              "\n",
              "\n",
              "<div id=\"df-c2b46f66-44e5-4d78-b6c8-90fa2bc5ae7f\">\n",
              "  <button class=\"colab-df-quickchart\" onclick=\"quickchart('df-c2b46f66-44e5-4d78-b6c8-90fa2bc5ae7f')\"\n",
              "            title=\"Suggest charts\"\n",
              "            style=\"display:none;\">\n",
              "\n",
              "<svg xmlns=\"http://www.w3.org/2000/svg\" height=\"24px\"viewBox=\"0 0 24 24\"\n",
              "     width=\"24px\">\n",
              "    <g>\n",
              "        <path d=\"M19 3H5c-1.1 0-2 .9-2 2v14c0 1.1.9 2 2 2h14c1.1 0 2-.9 2-2V5c0-1.1-.9-2-2-2zM9 17H7v-7h2v7zm4 0h-2V7h2v10zm4 0h-2v-4h2v4z\"/>\n",
              "    </g>\n",
              "</svg>\n",
              "  </button>\n",
              "\n",
              "<style>\n",
              "  .colab-df-quickchart {\n",
              "      --bg-color: #E8F0FE;\n",
              "      --fill-color: #1967D2;\n",
              "      --hover-bg-color: #E2EBFA;\n",
              "      --hover-fill-color: #174EA6;\n",
              "      --disabled-fill-color: #AAA;\n",
              "      --disabled-bg-color: #DDD;\n",
              "  }\n",
              "\n",
              "  [theme=dark] .colab-df-quickchart {\n",
              "      --bg-color: #3B4455;\n",
              "      --fill-color: #D2E3FC;\n",
              "      --hover-bg-color: #434B5C;\n",
              "      --hover-fill-color: #FFFFFF;\n",
              "      --disabled-bg-color: #3B4455;\n",
              "      --disabled-fill-color: #666;\n",
              "  }\n",
              "\n",
              "  .colab-df-quickchart {\n",
              "    background-color: var(--bg-color);\n",
              "    border: none;\n",
              "    border-radius: 50%;\n",
              "    cursor: pointer;\n",
              "    display: none;\n",
              "    fill: var(--fill-color);\n",
              "    height: 32px;\n",
              "    padding: 0;\n",
              "    width: 32px;\n",
              "  }\n",
              "\n",
              "  .colab-df-quickchart:hover {\n",
              "    background-color: var(--hover-bg-color);\n",
              "    box-shadow: 0 1px 2px rgba(60, 64, 67, 0.3), 0 1px 3px 1px rgba(60, 64, 67, 0.15);\n",
              "    fill: var(--button-hover-fill-color);\n",
              "  }\n",
              "\n",
              "  .colab-df-quickchart-complete:disabled,\n",
              "  .colab-df-quickchart-complete:disabled:hover {\n",
              "    background-color: var(--disabled-bg-color);\n",
              "    fill: var(--disabled-fill-color);\n",
              "    box-shadow: none;\n",
              "  }\n",
              "\n",
              "  .colab-df-spinner {\n",
              "    border: 2px solid var(--fill-color);\n",
              "    border-color: transparent;\n",
              "    border-bottom-color: var(--fill-color);\n",
              "    animation:\n",
              "      spin 1s steps(1) infinite;\n",
              "  }\n",
              "\n",
              "  @keyframes spin {\n",
              "    0% {\n",
              "      border-color: transparent;\n",
              "      border-bottom-color: var(--fill-color);\n",
              "      border-left-color: var(--fill-color);\n",
              "    }\n",
              "    20% {\n",
              "      border-color: transparent;\n",
              "      border-left-color: var(--fill-color);\n",
              "      border-top-color: var(--fill-color);\n",
              "    }\n",
              "    30% {\n",
              "      border-color: transparent;\n",
              "      border-left-color: var(--fill-color);\n",
              "      border-top-color: var(--fill-color);\n",
              "      border-right-color: var(--fill-color);\n",
              "    }\n",
              "    40% {\n",
              "      border-color: transparent;\n",
              "      border-right-color: var(--fill-color);\n",
              "      border-top-color: var(--fill-color);\n",
              "    }\n",
              "    60% {\n",
              "      border-color: transparent;\n",
              "      border-right-color: var(--fill-color);\n",
              "    }\n",
              "    80% {\n",
              "      border-color: transparent;\n",
              "      border-right-color: var(--fill-color);\n",
              "      border-bottom-color: var(--fill-color);\n",
              "    }\n",
              "    90% {\n",
              "      border-color: transparent;\n",
              "      border-bottom-color: var(--fill-color);\n",
              "    }\n",
              "  }\n",
              "</style>\n",
              "\n",
              "  <script>\n",
              "    async function quickchart(key) {\n",
              "      const quickchartButtonEl =\n",
              "        document.querySelector('#' + key + ' button');\n",
              "      quickchartButtonEl.disabled = true;  // To prevent multiple clicks.\n",
              "      quickchartButtonEl.classList.add('colab-df-spinner');\n",
              "      try {\n",
              "        const charts = await google.colab.kernel.invokeFunction(\n",
              "            'suggestCharts', [key], {});\n",
              "      } catch (error) {\n",
              "        console.error('Error during call to suggestCharts:', error);\n",
              "      }\n",
              "      quickchartButtonEl.classList.remove('colab-df-spinner');\n",
              "      quickchartButtonEl.classList.add('colab-df-quickchart-complete');\n",
              "    }\n",
              "    (() => {\n",
              "      let quickchartButtonEl =\n",
              "        document.querySelector('#df-c2b46f66-44e5-4d78-b6c8-90fa2bc5ae7f button');\n",
              "      quickchartButtonEl.style.display =\n",
              "        google.colab.kernel.accessAllowed ? 'block' : 'none';\n",
              "    })();\n",
              "  </script>\n",
              "</div>\n",
              "    </div>\n",
              "  </div>\n"
            ],
            "application/vnd.google.colaboratory.intrinsic+json": {
              "type": "dataframe",
              "variable_name": "reviews",
              "summary": "{\n  \"name\": \"reviews\",\n  \"rows\": 10000,\n  \"fields\": [\n    {\n      \"column\": \"Text\",\n      \"properties\": {\n        \"dtype\": \"string\",\n        \"num_unique_values\": 9970,\n        \"samples\": [\n          \"\\u043e\\u0442\\u043b\\u0438\\u0447\\u043d\\u044b\\u0439 \\u0442\\u0435\\u043b\\u0435\\u0444\\u043e\\u043d \\u043f\\u043e \\u0432\\u0441\\u0435\\u043c \\u043f\\u0430\\u0440\\u0430\\u043c\\u0435\\u0442\\u0440\\u0430\\u043c. \\u0434\\u043e \\u0438\\u0434\\u0435\\u0430\\u043b\\u0430 \\u043d\\u0435 \\u0434\\u043e\\u0442\\u044f\\u0433\\u0438\\u0432\\u0430\\u0435\\u0442 \\u043b\\u0438\\u0448\\u044c \\u0438\\u0437-\\u0437\\u0430 \\u043a\\u0430\\u043c\\u0435\\u0440\\u044b...\",\n          \"\\u041f\\u0430\\u0440\\u043a \\u043d\\u0435 \\u0440\\u0435\\u0430\\u043b\\u044c\\u043d\\u043e \\u0431\\u043e\\u043b\\u044c\\u0448\\u043e\\u0439, \\u0432\\u0445\\u043e\\u0434 \\u0431\\u0435\\u0441\\u043f\\u043b\\u0430\\u0442\\u043d\\u044b\\u0439. \\u041d\\u0430 \\u0442\\u0435\\u0440\\u0440\\u0438\\u0442\\u043e\\u0440\\u0438\\u0438 \\u0435\\u0441\\u0442\\u044c \\u043a\\u0430\\u0444\\u0435. \\u0426\\u0435\\u043d\\u044b \\u0437\\u0430\\u0432\\u044b\\u0448\\u0435\\u043d\\u044b \\u0442\\u0430\\u043a \\u043a\\u0430\\u043a \\u043e\\u043d\\u043e \\u043e\\u0434\\u043d\\u043e, \\u0436\\u0435\\u043b\\u0430\\u044e\\u0449\\u0438\\u0445 \\u043f\\u043e\\u0441\\u0438\\u0434\\u0435\\u0442\\u044c \\u0438 \\u0436\\u0434\\u0430\\u0442\\u044c \\u0448\\u043e\\u0443 \\u043c\\u043d\\u043e\\u0433\\u043e. \\u041d\\u0430 \\u0442\\u0435\\u0440\\u0440\\u0438\\u0442\\u043e\\u0440\\u0438\\u0438 \\u0435\\u0441\\u0442\\u044c \\u043a\\u0430\\u0447\\u0435\\u043b\\u0438 \\u0434\\u043b\\u044f \\u0434\\u0435\\u0442\\u0435\\u0439. \\u0414\\u0435\\u043a\\u043e\\u0440\\u0430\\u0446\\u0438\\u0438 \\u0438 \\u043f\\u043e\\u0434\\u0441\\u0432\\u0435\\u0442\\u043a\\u0430 \\u043d\\u0430 \\u0432\\u044b\\u0441\\u043e\\u0442\\u0435. \\u041d\\u0430\\u043f\\u043b\\u044b\\u0432 \\u0442\\u0443\\u0440\\u0438\\u0441\\u0442\\u043e\\u0432 \\u043d\\u0430\\u0447\\u0438\\u043d\\u0430\\u0435\\u0442\\u0441\\u044f \\u0441 19.00. \\u041f\\u0440\\u043e\\u0441\\u0442\\u043e \\u043a\\u0430\\u043a \\u0432 \\u043c\\u0443\\u0440\\u0430\\u0432\\u0435\\u0439\\u043d\\u0438\\u043a\\u0435. \\u0428\\u043e\\u0443 \\u043d\\u0430\\u0447\\u0438\\u043d\\u0430\\u0435\\u0442\\u0441\\u044f \\u0432 20.00, \\u0434\\u043b\\u0438\\u0442\\u0441\\u044f 10-12 \\u043c\\u0438\\u043d, \\u043f\\u0435\\u0440\\u0435\\u0440\\u044b\\u0432 5-7 \\u043c\\u0438\\u043d \\u0438 \\u043f\\u043e \\u043d\\u043e\\u0432\\u043e\\u0439. \\u041e\\u0447\\u0435\\u043d\\u044c \\u043a\\u0440\\u0430\\u0441\\u0438\\u0432\\u043e, \\u0437\\u0430\\u0432\\u043e\\u0440\\u0430\\u0436\\u0438\\u0432\\u0430\\u044e\\u0449\\u0435, \\u043d\\u043e \\u043f\\u043e\\u0441\\u043c\\u043e\\u0442\\u0440\\u0435\\u0432 \\u0440\\u043e\\u043b\\u0438\\u043a \\u0432 \\u0438\\u043d\\u0435\\u0442\\u0435 \\u0438 \\u0441\\u0440\\u0430\\u0432\\u043d\\u0438\\u0442\\u044c \\u0442\\u043e \\u0447\\u0442\\u043e \\u0435\\u0441\\u0442\\u044c, \\u043e\\u0436\\u0438\\u0434\\u0430\\u043d\\u0438\\u0435 \\u043d\\u0435 \\u043f\\u0440\\u0435\\u0432\\u0437\\u043e\\u0448\\u043b\\u043e \\u0441\\u0435\\u0431\\u044f. \\u0410 \\u0442\\u0430\\u043a \\u0441\\u043e\\u0432\\u0435\\u0442\\u0443\\u044e. \\u041d\\u043e \\u043f\\u043e\\u0431\\u044b\\u0432\\u0430\\u0432 \\u0432 \\u0414\\u0435\\u0440\\u0431\\u0435\\u043d\\u0442\\u0435 \\u043e\\u0431\\u044f\\u0437\\u0430\\u0442\\u0435\\u043b\\u044c\\u043d\\u043e \\u043f\\u043e\\u0441\\u0435\\u0442\\u0438\\u0442\\u0435. \\u0415\\u0434\\u0438\\u043d\\u0441\\u0442\\u0432\\u0435\\u043d\\u043d\\u044b\\u0439 \\u043c\\u0438\\u043d\\u0443\\u0441 \\u044d\\u0442\\u043e \\u043f\\u0430\\u0440\\u043a\\u043e\\u0432\\u043a\\u0430 \\u0430\\u0432\\u0442\\u043e. \\u041f\\u0440\\u0438\\u0434\\u0451\\u0442\\u0441\\u044f \\u043e\\u0441\\u0442\\u0430\\u0432\\u043b\\u044f\\u0442\\u044c \\u0430\\u0432\\u0442\\u043e \\u0434\\u0430\\u043b\\u044c\\u0448\\u0435 \\u043e\\u0442 \\u043f\\u0430\\u0440\\u043a\\u0430, \\u0442\\u0430\\u043a \\u043a\\u0430\\u043a \\u043f\\u043e\\u0441\\u043b\\u0435 \\u043d\\u0435 \\u0432\\u044b\\u0435\\u0445\\u0430\\u0442\\u044c, \\u043f\\u0435\\u0440\\u0435\\u043a\\u0440\\u044b\\u0432\\u0430\\u044e\\u0442 \\u0432\\u044b\\u0435\\u0437\\u0434 \\u0434\\u0440\\u0443\\u0433\\u0438\\u0435 \\u0430\\u0432\\u0442\\u043e.\\n\",\n          \"\\u0446\\u0435\\u043d\\u044b \\u043f\\u0440\\u0438\\u0435\\u043c\\u043b\\u0438\\u043c\\u044b\\u0435,\\u0441\\u0434\\u0435\\u043b\\u0430\\u043d\\u043e \\u0432\\u0441\\u0451 \\u043a\\u0430\\u0447\\u0435\\u0441\\u0442\\u0432\\u0435\\u043d\\u043d\\u043e \\u0438 \\u0431\\u044b\\u0441\\u0442\\u0440\\u043e. \\u0432\\u0435\\u0436\\u043b\\u0438\\u0432\\u044b\\u0435 \\u0434\\u0438\\u0441\\u043f\\u0435\\u0442\\u0447\\u0435\\u0440\\u044b,\\u0430 \\u0442\\u0430\\u043a \\u0436\\u0435 \\u043a\\u043e\\u043c\\u043f\\u0435\\u0442\\u0435\\u043d\\u0442\\u043d\\u044b\\u0435 \\u0441\\u043e\\u0442\\u0440\\u0443\\u0434\\u043d\\u0438\\u043a\\u0438. \\u043e\\u0447\\u0435\\u043d\\u044c \\u043f\\u0440\\u0438\\u044f\\u0442\\u043d\\u043e \\u0431\\u044b\\u043b\\u043e \\u0438\\u043c\\u0435\\u0442\\u044c \\u0434\\u0435\\u043b\\u043e \\u0441 \\u043a\\u043e\\u043c\\u043f\\u0430\\u043d\\u0438\\u0435\\u0439 \\\"\\u0410\\u043a\\u0432\\u0430\\u0442\\u0435\\u0445\\u043d\\u0438\\u043a\\\". \\u0440\\u0435\\u043a\\u043e\\u043c\\u0435\\u043d\\u0434\\u0443\\u044e!\\n\"\n        ],\n        \"semantic_type\": \"\",\n        \"description\": \"\"\n      }\n    },\n    {\n      \"column\": \"Score\",\n      \"properties\": {\n        \"dtype\": \"number\",\n        \"std\": 0,\n        \"min\": 0,\n        \"max\": 2,\n        \"num_unique_values\": 3,\n        \"samples\": [\n          2,\n          1,\n          0\n        ],\n        \"semantic_type\": \"\",\n        \"description\": \"\"\n      }\n    }\n  ]\n}"
            }
          },
          "metadata": {},
          "execution_count": 11
        }
      ]
    },
    {
      "cell_type": "markdown",
      "source": [
        "Удаление NaN, повторяющихся текстов"
      ],
      "metadata": {
        "id": "-gADtuGCme6r"
      }
    },
    {
      "cell_type": "code",
      "source": [
        "reviews = reviews.dropna(subset=['Text', 'Score'])"
      ],
      "metadata": {
        "id": "tkGQ65MQnDzM"
      },
      "execution_count": 12,
      "outputs": []
    },
    {
      "cell_type": "code",
      "source": [
        "reviews = reviews.drop_duplicates('Text')"
      ],
      "metadata": {
        "id": "dJ1eyHTlmjcm"
      },
      "execution_count": 13,
      "outputs": []
    },
    {
      "cell_type": "markdown",
      "source": [
        "Функции"
      ],
      "metadata": {
        "id": "vmGb_6eR-InD"
      }
    },
    {
      "cell_type": "code",
      "source": [
        "def remove_emoji(text):\n",
        "    emoji_pattern = re.compile(\"[\"\n",
        "                           u\"\\U0001F600-\\U0001F64F\"  # эмодзи эмоций\n",
        "                           u\"\\U0001F300-\\U0001F5FF\"  # символы и пиктограммы\n",
        "                           u\"\\U0001F680-\\U0001F6FF\"  # эмодзи транспорта\n",
        "                           u\"\\U0001F1E0-\\U0001F1FF\"  # эмодзи флагов стран\n",
        "                           u\"\\U00002500-\\U00002BEF\"  # китайские иероглифы\n",
        "                           u\"\\U00002702-\\U000027B0\"\n",
        "                           u\"\\U00002702-\\U000027B0\"\n",
        "                           u\"\\U000024C2-\\U0001F251\"\n",
        "                           u\"\\U0001f926-\\U0001f937\"\n",
        "                           u\"\\U00010000-\\U0010ffff\"\n",
        "                           u\"\\u2640-\\u2642\"\n",
        "                           u\"\\u2600-\\u2B55\"\n",
        "                           u\"\\u200d\"\n",
        "                           u\"\\u23cf\"\n",
        "                           u\"\\u23e9\"\n",
        "                           u\"\\u231a\"\n",
        "                           u\"\\ufe0f\"  # variation selector\n",
        "                           u\"\\u3030\"\n",
        "                           \"]+\", flags=re.UNICODE)\n",
        "    return emoji_pattern.sub(r'', text)\n",
        "\n",
        "\n",
        "def preprocess(text, stop_words, punctuation_marks, morph):\n",
        "    \"\"\"Разбивка предложений на слова\"\"\"\n",
        "    text = str(text).lower()\n",
        "    # Удаление эмодзи\n",
        "    text = remove_emoji(text)\n",
        "    # Удаление пунктуации\n",
        "    for letter in punctuation_marks:\n",
        "        text = text.replace(letter, ' ')\n",
        "\n",
        "    tokens = word_tokenize(text)\n",
        "    preprocessed_text = []\n",
        "    for token in tokens:\n",
        "        if len(token) > 1:\n",
        "            lemma = morph.parse(token)[0].normal_form\n",
        "            if lemma not in stop_words:\n",
        "                preprocessed_text.append(lemma)\n",
        "    return preprocessed_text\n",
        "\n",
        "\n",
        "def text_to_sequence(txt, word_to_index):\n",
        "    seq = []\n",
        "    for word in txt:\n",
        "        index = word_to_index.get(word, 1) # 1 означает неизвестное слово\n",
        "        # Неизвестные слова не добавляем в выходную последовательность\n",
        "        if index != 1:\n",
        "            seq.append(index)\n",
        "    return seq\n",
        "\n",
        "\n",
        "def vectorize_sequences(sequences, dimension=10000):\n",
        "    results = np.zeros((len(sequences), dimension))\n",
        "    for i, sequence in enumerate(sequences):\n",
        "        for index in sequence:\n",
        "            results[i, index] += 1.\n",
        "    return results"
      ],
      "metadata": {
        "id": "L5n-XTEe-Hxl"
      },
      "execution_count": 14,
      "outputs": []
    },
    {
      "cell_type": "markdown",
      "source": [
        "###Обработка текста"
      ],
      "metadata": {
        "id": "FVE6ftNKAHJm"
      }
    },
    {
      "cell_type": "code",
      "source": [
        "reviews['Preprocessed_texts'] = reviews.apply(lambda row: preprocess(row['Text'], stop_words, punctuation_marks, morph), axis=1)"
      ],
      "metadata": {
        "id": "niTJrrOk-K8y"
      },
      "execution_count": 15,
      "outputs": []
    },
    {
      "cell_type": "markdown",
      "source": [
        "### Запуск готового словаря популярных слов"
      ],
      "metadata": {
        "id": "hK-0Ohv5kTAt"
      }
    },
    {
      "cell_type": "code",
      "source": [
        "# Cловарь самых популярных слов\n",
        "with open(\"dictionary4.json\", \"r\") as f:\n",
        "    word_to_index = json.load(f)"
      ],
      "metadata": {
        "id": "SFCNUYo5_bVX"
      },
      "execution_count": 19,
      "outputs": []
    },
    {
      "cell_type": "markdown",
      "source": [
        "### Создание готового словаря популярных слов"
      ],
      "metadata": {
        "id": "aDcw0UkFkfEU"
      }
    },
    {
      "cell_type": "code",
      "source": [
        "# Считаем частоту слов во всех отзывах\n",
        "words = Counter()\n",
        "\n",
        "for txt in reviews['Preprocessed_texts']:\n",
        "    words.update(txt)\n",
        "\n",
        "\n",
        "# Словарь, отображающий слова в коды\n",
        "word_to_index = dict()\n",
        "# Словарь, отображающий коды в слова\n",
        "index_to_word = dict()\n",
        "\n",
        "#Создаем словари\n",
        "for i, word in enumerate(words.most_common(MAX_WORDS - 2)):\n",
        "    word_to_index[word[0]] = i + 2\n",
        "    index_to_word[i + 2] = word[0]"
      ],
      "metadata": {
        "id": "XCSej517iaUX"
      },
      "execution_count": 18,
      "outputs": []
    },
    {
      "cell_type": "markdown",
      "source": [
        "### Сохранение словаря популярных слов"
      ],
      "metadata": {
        "id": "371tIXbIk9j_"
      }
    },
    {
      "cell_type": "code",
      "source": [
        "  with open(\"dictionary_new.json\", \"w\") as f:\n",
        "    json.dump(word_to_index, f)"
      ],
      "metadata": {
        "id": "qHyVqJfik83A"
      },
      "execution_count": 20,
      "outputs": []
    },
    {
      "cell_type": "markdown",
      "source": [
        "### Обработка списка слов"
      ],
      "metadata": {
        "id": "1ayrr-3OlOY2"
      }
    },
    {
      "cell_type": "code",
      "source": [
        "reviews['Sequences'] = reviews.apply(lambda row: text_to_sequence(row['Preprocessed_texts'], word_to_index), axis=1)"
      ],
      "metadata": {
        "id": "Rqs9NQw4BaNJ"
      },
      "execution_count": 21,
      "outputs": []
    },
    {
      "cell_type": "markdown",
      "source": [
        "Замена оценок на:\n",
        "0 - отрицательный,\n",
        "1 - нейтральный,\n",
        "2 - позитивный."
      ],
      "metadata": {
        "id": "k-wmr3IJpDcR"
      }
    },
    {
      "cell_type": "code",
      "source": [
        "mapping = {\"1\": 0, \"2\": 0, \"3\": 1, \"4\": 2, \"5\": 2}\n",
        "reviews.replace({'Score': mapping}, inplace=True)"
      ],
      "metadata": {
        "id": "OvGJUIUvpVLP"
      },
      "execution_count": 22,
      "outputs": []
    },
    {
      "cell_type": "code",
      "source": [
        "reviews"
      ],
      "metadata": {
        "colab": {
          "base_uri": "https://localhost:8080/",
          "height": 597
        },
        "id": "00TptG4NUk6M",
        "outputId": "eaf763e7-adab-47c7-ef89-c4a10a5a7554"
      },
      "execution_count": 23,
      "outputs": [
        {
          "output_type": "execute_result",
          "data": {
            "text/plain": [
              "                                                   Text  Score  \\\n",
              "0     Лучшая детская парикмахерская! А чего стоят си...      2   \n",
              "1     Ребята, советую брать если нужен телефон на дв...      2   \n",
              "2     Единственный минус что нет фуд кортов и мало м...      2   \n",
              "3     Красивый храм. Расположен правда не на \" ходу\"...      2   \n",
              "4     Очень люблю этот супермаркет, всегда чисто, хо...      2   \n",
              "...                                                 ...    ...   \n",
              "9995  Сенсор ужасный - уйма ложных срабатываний, вме...      1   \n",
              "9996  Атмосферное место с нормальными ребятами! Гост...      0   \n",
              "9997  Радует то, что я его купил за 16500, а не за 2...      1   \n",
              "9998  Нужен был ТЕЛЕФОН(для всего остального есть iP...      2   \n",
              "9999  Огромная благодарность Анастасии!!! Владелеце ...      0   \n",
              "\n",
              "                                     Preprocessed_texts  \\\n",
              "0     [хороший, детский, парикмахерская, стоять, сид...   \n",
              "1     [ребята, советовать, брать, нужный, телефон, с...   \n",
              "2       [единственный, минус, фуд, корт, мало, магазин]   \n",
              "3     [красивый, храм, расположить, правда, не, ход,...   \n",
              "4     [очень, любить, супермаркет, чисто, хороший, в...   \n",
              "...                                                 ...   \n",
              "9995  [сенсор, ужасный, уйма, ложный, срабатывание, ...   \n",
              "9996  [атмосферный, место, нормальный, ребята, госте...   \n",
              "9997  [радовать, купить, не, тыс, коллега, работа, т...   \n",
              "9998  [нужный, телефон, весь, остальной, звонить, ма...   \n",
              "9999  [огромный, благодарность, анастасия, владелец,...   \n",
              "\n",
              "                                              Sequences  \n",
              "0     [6, 239, 3690, 464, 3050, 14, 3152, 1463, 330,...  \n",
              "1     [262, 54, 33, 77, 4, 279, 254, 54, 935, 1168, ...  \n",
              "2                        [213, 96, 3381, 3687, 229, 24]  \n",
              "3     [87, 1705, 481, 257, 2, 1651, 1864, 294, 3439,...  \n",
              "4     [3, 269, 2557, 98, 6, 44, 163, 169, 2, 780, 2,...  \n",
              "...                                                 ...  \n",
              "9995  [404, 419, 5845, 5649, 5356, 750, 1175, 164, 4...  \n",
              "9996  [893, 18, 142, 262, 126, 54, 334, 93, 104, 11,...  \n",
              "9997  [214, 20, 2, 656, 1694, 36, 4, 64, 153, 316, 2...  \n",
              "9998               [77, 4, 7, 193, 291, 1223, 2946, 95]  \n",
              "9999  [85, 346, 1764, 1038, 179, 612, 11, 8011, 1698...  \n",
              "\n",
              "[9970 rows x 4 columns]"
            ],
            "text/html": [
              "\n",
              "  <div id=\"df-01acdfe4-1a32-4a8e-90aa-db48803b9772\" class=\"colab-df-container\">\n",
              "    <div>\n",
              "<style scoped>\n",
              "    .dataframe tbody tr th:only-of-type {\n",
              "        vertical-align: middle;\n",
              "    }\n",
              "\n",
              "    .dataframe tbody tr th {\n",
              "        vertical-align: top;\n",
              "    }\n",
              "\n",
              "    .dataframe thead th {\n",
              "        text-align: right;\n",
              "    }\n",
              "</style>\n",
              "<table border=\"1\" class=\"dataframe\">\n",
              "  <thead>\n",
              "    <tr style=\"text-align: right;\">\n",
              "      <th></th>\n",
              "      <th>Text</th>\n",
              "      <th>Score</th>\n",
              "      <th>Preprocessed_texts</th>\n",
              "      <th>Sequences</th>\n",
              "    </tr>\n",
              "  </thead>\n",
              "  <tbody>\n",
              "    <tr>\n",
              "      <th>0</th>\n",
              "      <td>Лучшая детская парикмахерская! А чего стоят си...</td>\n",
              "      <td>2</td>\n",
              "      <td>[хороший, детский, парикмахерская, стоять, сид...</td>\n",
              "      <td>[6, 239, 3690, 464, 3050, 14, 3152, 1463, 330,...</td>\n",
              "    </tr>\n",
              "    <tr>\n",
              "      <th>1</th>\n",
              "      <td>Ребята, советую брать если нужен телефон на дв...</td>\n",
              "      <td>2</td>\n",
              "      <td>[ребята, советовать, брать, нужный, телефон, с...</td>\n",
              "      <td>[262, 54, 33, 77, 4, 279, 254, 54, 935, 1168, ...</td>\n",
              "    </tr>\n",
              "    <tr>\n",
              "      <th>2</th>\n",
              "      <td>Единственный минус что нет фуд кортов и мало м...</td>\n",
              "      <td>2</td>\n",
              "      <td>[единственный, минус, фуд, корт, мало, магазин]</td>\n",
              "      <td>[213, 96, 3381, 3687, 229, 24]</td>\n",
              "    </tr>\n",
              "    <tr>\n",
              "      <th>3</th>\n",
              "      <td>Красивый храм. Расположен правда не на \" ходу\"...</td>\n",
              "      <td>2</td>\n",
              "      <td>[красивый, храм, расположить, правда, не, ход,...</td>\n",
              "      <td>[87, 1705, 481, 257, 2, 1651, 1864, 294, 3439,...</td>\n",
              "    </tr>\n",
              "    <tr>\n",
              "      <th>4</th>\n",
              "      <td>Очень люблю этот супермаркет, всегда чисто, хо...</td>\n",
              "      <td>2</td>\n",
              "      <td>[очень, любить, супермаркет, чисто, хороший, в...</td>\n",
              "      <td>[3, 269, 2557, 98, 6, 44, 163, 169, 2, 780, 2,...</td>\n",
              "    </tr>\n",
              "    <tr>\n",
              "      <th>...</th>\n",
              "      <td>...</td>\n",
              "      <td>...</td>\n",
              "      <td>...</td>\n",
              "      <td>...</td>\n",
              "    </tr>\n",
              "    <tr>\n",
              "      <th>9995</th>\n",
              "      <td>Сенсор ужасный - уйма ложных срабатываний, вме...</td>\n",
              "      <td>1</td>\n",
              "      <td>[сенсор, ужасный, уйма, ложный, срабатывание, ...</td>\n",
              "      <td>[404, 419, 5845, 5649, 5356, 750, 1175, 164, 4...</td>\n",
              "    </tr>\n",
              "    <tr>\n",
              "      <th>9996</th>\n",
              "      <td>Атмосферное место с нормальными ребятами! Гост...</td>\n",
              "      <td>0</td>\n",
              "      <td>[атмосферный, место, нормальный, ребята, госте...</td>\n",
              "      <td>[893, 18, 142, 262, 126, 54, 334, 93, 104, 11,...</td>\n",
              "    </tr>\n",
              "    <tr>\n",
              "      <th>9997</th>\n",
              "      <td>Радует то, что я его купил за 16500, а не за 2...</td>\n",
              "      <td>1</td>\n",
              "      <td>[радовать, купить, не, тыс, коллега, работа, т...</td>\n",
              "      <td>[214, 20, 2, 656, 1694, 36, 4, 64, 153, 316, 2...</td>\n",
              "    </tr>\n",
              "    <tr>\n",
              "      <th>9998</th>\n",
              "      <td>Нужен был ТЕЛЕФОН(для всего остального есть iP...</td>\n",
              "      <td>2</td>\n",
              "      <td>[нужный, телефон, весь, остальной, звонить, ма...</td>\n",
              "      <td>[77, 4, 7, 193, 291, 1223, 2946, 95]</td>\n",
              "    </tr>\n",
              "    <tr>\n",
              "      <th>9999</th>\n",
              "      <td>Огромная благодарность Анастасии!!! Владелеце ...</td>\n",
              "      <td>0</td>\n",
              "      <td>[огромный, благодарность, анастасия, владелец,...</td>\n",
              "      <td>[85, 346, 1764, 1038, 179, 612, 11, 8011, 1698...</td>\n",
              "    </tr>\n",
              "  </tbody>\n",
              "</table>\n",
              "<p>9970 rows × 4 columns</p>\n",
              "</div>\n",
              "    <div class=\"colab-df-buttons\">\n",
              "\n",
              "  <div class=\"colab-df-container\">\n",
              "    <button class=\"colab-df-convert\" onclick=\"convertToInteractive('df-01acdfe4-1a32-4a8e-90aa-db48803b9772')\"\n",
              "            title=\"Convert this dataframe to an interactive table.\"\n",
              "            style=\"display:none;\">\n",
              "\n",
              "  <svg xmlns=\"http://www.w3.org/2000/svg\" height=\"24px\" viewBox=\"0 -960 960 960\">\n",
              "    <path d=\"M120-120v-720h720v720H120Zm60-500h600v-160H180v160Zm220 220h160v-160H400v160Zm0 220h160v-160H400v160ZM180-400h160v-160H180v160Zm440 0h160v-160H620v160ZM180-180h160v-160H180v160Zm440 0h160v-160H620v160Z\"/>\n",
              "  </svg>\n",
              "    </button>\n",
              "\n",
              "  <style>\n",
              "    .colab-df-container {\n",
              "      display:flex;\n",
              "      gap: 12px;\n",
              "    }\n",
              "\n",
              "    .colab-df-convert {\n",
              "      background-color: #E8F0FE;\n",
              "      border: none;\n",
              "      border-radius: 50%;\n",
              "      cursor: pointer;\n",
              "      display: none;\n",
              "      fill: #1967D2;\n",
              "      height: 32px;\n",
              "      padding: 0 0 0 0;\n",
              "      width: 32px;\n",
              "    }\n",
              "\n",
              "    .colab-df-convert:hover {\n",
              "      background-color: #E2EBFA;\n",
              "      box-shadow: 0px 1px 2px rgba(60, 64, 67, 0.3), 0px 1px 3px 1px rgba(60, 64, 67, 0.15);\n",
              "      fill: #174EA6;\n",
              "    }\n",
              "\n",
              "    .colab-df-buttons div {\n",
              "      margin-bottom: 4px;\n",
              "    }\n",
              "\n",
              "    [theme=dark] .colab-df-convert {\n",
              "      background-color: #3B4455;\n",
              "      fill: #D2E3FC;\n",
              "    }\n",
              "\n",
              "    [theme=dark] .colab-df-convert:hover {\n",
              "      background-color: #434B5C;\n",
              "      box-shadow: 0px 1px 3px 1px rgba(0, 0, 0, 0.15);\n",
              "      filter: drop-shadow(0px 1px 2px rgba(0, 0, 0, 0.3));\n",
              "      fill: #FFFFFF;\n",
              "    }\n",
              "  </style>\n",
              "\n",
              "    <script>\n",
              "      const buttonEl =\n",
              "        document.querySelector('#df-01acdfe4-1a32-4a8e-90aa-db48803b9772 button.colab-df-convert');\n",
              "      buttonEl.style.display =\n",
              "        google.colab.kernel.accessAllowed ? 'block' : 'none';\n",
              "\n",
              "      async function convertToInteractive(key) {\n",
              "        const element = document.querySelector('#df-01acdfe4-1a32-4a8e-90aa-db48803b9772');\n",
              "        const dataTable =\n",
              "          await google.colab.kernel.invokeFunction('convertToInteractive',\n",
              "                                                    [key], {});\n",
              "        if (!dataTable) return;\n",
              "\n",
              "        const docLinkHtml = 'Like what you see? Visit the ' +\n",
              "          '<a target=\"_blank\" href=https://colab.research.google.com/notebooks/data_table.ipynb>data table notebook</a>'\n",
              "          + ' to learn more about interactive tables.';\n",
              "        element.innerHTML = '';\n",
              "        dataTable['output_type'] = 'display_data';\n",
              "        await google.colab.output.renderOutput(dataTable, element);\n",
              "        const docLink = document.createElement('div');\n",
              "        docLink.innerHTML = docLinkHtml;\n",
              "        element.appendChild(docLink);\n",
              "      }\n",
              "    </script>\n",
              "  </div>\n",
              "\n",
              "\n",
              "<div id=\"df-95ea5f70-8067-4b91-b475-db073ea6ff24\">\n",
              "  <button class=\"colab-df-quickchart\" onclick=\"quickchart('df-95ea5f70-8067-4b91-b475-db073ea6ff24')\"\n",
              "            title=\"Suggest charts\"\n",
              "            style=\"display:none;\">\n",
              "\n",
              "<svg xmlns=\"http://www.w3.org/2000/svg\" height=\"24px\"viewBox=\"0 0 24 24\"\n",
              "     width=\"24px\">\n",
              "    <g>\n",
              "        <path d=\"M19 3H5c-1.1 0-2 .9-2 2v14c0 1.1.9 2 2 2h14c1.1 0 2-.9 2-2V5c0-1.1-.9-2-2-2zM9 17H7v-7h2v7zm4 0h-2V7h2v10zm4 0h-2v-4h2v4z\"/>\n",
              "    </g>\n",
              "</svg>\n",
              "  </button>\n",
              "\n",
              "<style>\n",
              "  .colab-df-quickchart {\n",
              "      --bg-color: #E8F0FE;\n",
              "      --fill-color: #1967D2;\n",
              "      --hover-bg-color: #E2EBFA;\n",
              "      --hover-fill-color: #174EA6;\n",
              "      --disabled-fill-color: #AAA;\n",
              "      --disabled-bg-color: #DDD;\n",
              "  }\n",
              "\n",
              "  [theme=dark] .colab-df-quickchart {\n",
              "      --bg-color: #3B4455;\n",
              "      --fill-color: #D2E3FC;\n",
              "      --hover-bg-color: #434B5C;\n",
              "      --hover-fill-color: #FFFFFF;\n",
              "      --disabled-bg-color: #3B4455;\n",
              "      --disabled-fill-color: #666;\n",
              "  }\n",
              "\n",
              "  .colab-df-quickchart {\n",
              "    background-color: var(--bg-color);\n",
              "    border: none;\n",
              "    border-radius: 50%;\n",
              "    cursor: pointer;\n",
              "    display: none;\n",
              "    fill: var(--fill-color);\n",
              "    height: 32px;\n",
              "    padding: 0;\n",
              "    width: 32px;\n",
              "  }\n",
              "\n",
              "  .colab-df-quickchart:hover {\n",
              "    background-color: var(--hover-bg-color);\n",
              "    box-shadow: 0 1px 2px rgba(60, 64, 67, 0.3), 0 1px 3px 1px rgba(60, 64, 67, 0.15);\n",
              "    fill: var(--button-hover-fill-color);\n",
              "  }\n",
              "\n",
              "  .colab-df-quickchart-complete:disabled,\n",
              "  .colab-df-quickchart-complete:disabled:hover {\n",
              "    background-color: var(--disabled-bg-color);\n",
              "    fill: var(--disabled-fill-color);\n",
              "    box-shadow: none;\n",
              "  }\n",
              "\n",
              "  .colab-df-spinner {\n",
              "    border: 2px solid var(--fill-color);\n",
              "    border-color: transparent;\n",
              "    border-bottom-color: var(--fill-color);\n",
              "    animation:\n",
              "      spin 1s steps(1) infinite;\n",
              "  }\n",
              "\n",
              "  @keyframes spin {\n",
              "    0% {\n",
              "      border-color: transparent;\n",
              "      border-bottom-color: var(--fill-color);\n",
              "      border-left-color: var(--fill-color);\n",
              "    }\n",
              "    20% {\n",
              "      border-color: transparent;\n",
              "      border-left-color: var(--fill-color);\n",
              "      border-top-color: var(--fill-color);\n",
              "    }\n",
              "    30% {\n",
              "      border-color: transparent;\n",
              "      border-left-color: var(--fill-color);\n",
              "      border-top-color: var(--fill-color);\n",
              "      border-right-color: var(--fill-color);\n",
              "    }\n",
              "    40% {\n",
              "      border-color: transparent;\n",
              "      border-right-color: var(--fill-color);\n",
              "      border-top-color: var(--fill-color);\n",
              "    }\n",
              "    60% {\n",
              "      border-color: transparent;\n",
              "      border-right-color: var(--fill-color);\n",
              "    }\n",
              "    80% {\n",
              "      border-color: transparent;\n",
              "      border-right-color: var(--fill-color);\n",
              "      border-bottom-color: var(--fill-color);\n",
              "    }\n",
              "    90% {\n",
              "      border-color: transparent;\n",
              "      border-bottom-color: var(--fill-color);\n",
              "    }\n",
              "  }\n",
              "</style>\n",
              "\n",
              "  <script>\n",
              "    async function quickchart(key) {\n",
              "      const quickchartButtonEl =\n",
              "        document.querySelector('#' + key + ' button');\n",
              "      quickchartButtonEl.disabled = true;  // To prevent multiple clicks.\n",
              "      quickchartButtonEl.classList.add('colab-df-spinner');\n",
              "      try {\n",
              "        const charts = await google.colab.kernel.invokeFunction(\n",
              "            'suggestCharts', [key], {});\n",
              "      } catch (error) {\n",
              "        console.error('Error during call to suggestCharts:', error);\n",
              "      }\n",
              "      quickchartButtonEl.classList.remove('colab-df-spinner');\n",
              "      quickchartButtonEl.classList.add('colab-df-quickchart-complete');\n",
              "    }\n",
              "    (() => {\n",
              "      let quickchartButtonEl =\n",
              "        document.querySelector('#df-95ea5f70-8067-4b91-b475-db073ea6ff24 button');\n",
              "      quickchartButtonEl.style.display =\n",
              "        google.colab.kernel.accessAllowed ? 'block' : 'none';\n",
              "    })();\n",
              "  </script>\n",
              "</div>\n",
              "    </div>\n",
              "  </div>\n"
            ],
            "application/vnd.google.colaboratory.intrinsic+json": {
              "type": "dataframe",
              "variable_name": "reviews",
              "summary": "{\n  \"name\": \"reviews\",\n  \"rows\": 9970,\n  \"fields\": [\n    {\n      \"column\": \"Text\",\n      \"properties\": {\n        \"dtype\": \"string\",\n        \"num_unique_values\": 9970,\n        \"samples\": [\n          \"\\u043e\\u0442\\u043b\\u0438\\u0447\\u043d\\u044b\\u0439 \\u0442\\u0435\\u043b\\u0435\\u0444\\u043e\\u043d \\u043f\\u043e \\u0432\\u0441\\u0435\\u043c \\u043f\\u0430\\u0440\\u0430\\u043c\\u0435\\u0442\\u0440\\u0430\\u043c. \\u0434\\u043e \\u0438\\u0434\\u0435\\u0430\\u043b\\u0430 \\u043d\\u0435 \\u0434\\u043e\\u0442\\u044f\\u0433\\u0438\\u0432\\u0430\\u0435\\u0442 \\u043b\\u0438\\u0448\\u044c \\u0438\\u0437-\\u0437\\u0430 \\u043a\\u0430\\u043c\\u0435\\u0440\\u044b...\",\n          \"\\u041f\\u0430\\u0440\\u043a \\u043d\\u0435 \\u0440\\u0435\\u0430\\u043b\\u044c\\u043d\\u043e \\u0431\\u043e\\u043b\\u044c\\u0448\\u043e\\u0439, \\u0432\\u0445\\u043e\\u0434 \\u0431\\u0435\\u0441\\u043f\\u043b\\u0430\\u0442\\u043d\\u044b\\u0439. \\u041d\\u0430 \\u0442\\u0435\\u0440\\u0440\\u0438\\u0442\\u043e\\u0440\\u0438\\u0438 \\u0435\\u0441\\u0442\\u044c \\u043a\\u0430\\u0444\\u0435. \\u0426\\u0435\\u043d\\u044b \\u0437\\u0430\\u0432\\u044b\\u0448\\u0435\\u043d\\u044b \\u0442\\u0430\\u043a \\u043a\\u0430\\u043a \\u043e\\u043d\\u043e \\u043e\\u0434\\u043d\\u043e, \\u0436\\u0435\\u043b\\u0430\\u044e\\u0449\\u0438\\u0445 \\u043f\\u043e\\u0441\\u0438\\u0434\\u0435\\u0442\\u044c \\u0438 \\u0436\\u0434\\u0430\\u0442\\u044c \\u0448\\u043e\\u0443 \\u043c\\u043d\\u043e\\u0433\\u043e. \\u041d\\u0430 \\u0442\\u0435\\u0440\\u0440\\u0438\\u0442\\u043e\\u0440\\u0438\\u0438 \\u0435\\u0441\\u0442\\u044c \\u043a\\u0430\\u0447\\u0435\\u043b\\u0438 \\u0434\\u043b\\u044f \\u0434\\u0435\\u0442\\u0435\\u0439. \\u0414\\u0435\\u043a\\u043e\\u0440\\u0430\\u0446\\u0438\\u0438 \\u0438 \\u043f\\u043e\\u0434\\u0441\\u0432\\u0435\\u0442\\u043a\\u0430 \\u043d\\u0430 \\u0432\\u044b\\u0441\\u043e\\u0442\\u0435. \\u041d\\u0430\\u043f\\u043b\\u044b\\u0432 \\u0442\\u0443\\u0440\\u0438\\u0441\\u0442\\u043e\\u0432 \\u043d\\u0430\\u0447\\u0438\\u043d\\u0430\\u0435\\u0442\\u0441\\u044f \\u0441 19.00. \\u041f\\u0440\\u043e\\u0441\\u0442\\u043e \\u043a\\u0430\\u043a \\u0432 \\u043c\\u0443\\u0440\\u0430\\u0432\\u0435\\u0439\\u043d\\u0438\\u043a\\u0435. \\u0428\\u043e\\u0443 \\u043d\\u0430\\u0447\\u0438\\u043d\\u0430\\u0435\\u0442\\u0441\\u044f \\u0432 20.00, \\u0434\\u043b\\u0438\\u0442\\u0441\\u044f 10-12 \\u043c\\u0438\\u043d, \\u043f\\u0435\\u0440\\u0435\\u0440\\u044b\\u0432 5-7 \\u043c\\u0438\\u043d \\u0438 \\u043f\\u043e \\u043d\\u043e\\u0432\\u043e\\u0439. \\u041e\\u0447\\u0435\\u043d\\u044c \\u043a\\u0440\\u0430\\u0441\\u0438\\u0432\\u043e, \\u0437\\u0430\\u0432\\u043e\\u0440\\u0430\\u0436\\u0438\\u0432\\u0430\\u044e\\u0449\\u0435, \\u043d\\u043e \\u043f\\u043e\\u0441\\u043c\\u043e\\u0442\\u0440\\u0435\\u0432 \\u0440\\u043e\\u043b\\u0438\\u043a \\u0432 \\u0438\\u043d\\u0435\\u0442\\u0435 \\u0438 \\u0441\\u0440\\u0430\\u0432\\u043d\\u0438\\u0442\\u044c \\u0442\\u043e \\u0447\\u0442\\u043e \\u0435\\u0441\\u0442\\u044c, \\u043e\\u0436\\u0438\\u0434\\u0430\\u043d\\u0438\\u0435 \\u043d\\u0435 \\u043f\\u0440\\u0435\\u0432\\u0437\\u043e\\u0448\\u043b\\u043e \\u0441\\u0435\\u0431\\u044f. \\u0410 \\u0442\\u0430\\u043a \\u0441\\u043e\\u0432\\u0435\\u0442\\u0443\\u044e. \\u041d\\u043e \\u043f\\u043e\\u0431\\u044b\\u0432\\u0430\\u0432 \\u0432 \\u0414\\u0435\\u0440\\u0431\\u0435\\u043d\\u0442\\u0435 \\u043e\\u0431\\u044f\\u0437\\u0430\\u0442\\u0435\\u043b\\u044c\\u043d\\u043e \\u043f\\u043e\\u0441\\u0435\\u0442\\u0438\\u0442\\u0435. \\u0415\\u0434\\u0438\\u043d\\u0441\\u0442\\u0432\\u0435\\u043d\\u043d\\u044b\\u0439 \\u043c\\u0438\\u043d\\u0443\\u0441 \\u044d\\u0442\\u043e \\u043f\\u0430\\u0440\\u043a\\u043e\\u0432\\u043a\\u0430 \\u0430\\u0432\\u0442\\u043e. \\u041f\\u0440\\u0438\\u0434\\u0451\\u0442\\u0441\\u044f \\u043e\\u0441\\u0442\\u0430\\u0432\\u043b\\u044f\\u0442\\u044c \\u0430\\u0432\\u0442\\u043e \\u0434\\u0430\\u043b\\u044c\\u0448\\u0435 \\u043e\\u0442 \\u043f\\u0430\\u0440\\u043a\\u0430, \\u0442\\u0430\\u043a \\u043a\\u0430\\u043a \\u043f\\u043e\\u0441\\u043b\\u0435 \\u043d\\u0435 \\u0432\\u044b\\u0435\\u0445\\u0430\\u0442\\u044c, \\u043f\\u0435\\u0440\\u0435\\u043a\\u0440\\u044b\\u0432\\u0430\\u044e\\u0442 \\u0432\\u044b\\u0435\\u0437\\u0434 \\u0434\\u0440\\u0443\\u0433\\u0438\\u0435 \\u0430\\u0432\\u0442\\u043e.\\n\",\n          \"\\u0446\\u0435\\u043d\\u044b \\u043f\\u0440\\u0438\\u0435\\u043c\\u043b\\u0438\\u043c\\u044b\\u0435,\\u0441\\u0434\\u0435\\u043b\\u0430\\u043d\\u043e \\u0432\\u0441\\u0451 \\u043a\\u0430\\u0447\\u0435\\u0441\\u0442\\u0432\\u0435\\u043d\\u043d\\u043e \\u0438 \\u0431\\u044b\\u0441\\u0442\\u0440\\u043e. \\u0432\\u0435\\u0436\\u043b\\u0438\\u0432\\u044b\\u0435 \\u0434\\u0438\\u0441\\u043f\\u0435\\u0442\\u0447\\u0435\\u0440\\u044b,\\u0430 \\u0442\\u0430\\u043a \\u0436\\u0435 \\u043a\\u043e\\u043c\\u043f\\u0435\\u0442\\u0435\\u043d\\u0442\\u043d\\u044b\\u0435 \\u0441\\u043e\\u0442\\u0440\\u0443\\u0434\\u043d\\u0438\\u043a\\u0438. \\u043e\\u0447\\u0435\\u043d\\u044c \\u043f\\u0440\\u0438\\u044f\\u0442\\u043d\\u043e \\u0431\\u044b\\u043b\\u043e \\u0438\\u043c\\u0435\\u0442\\u044c \\u0434\\u0435\\u043b\\u043e \\u0441 \\u043a\\u043e\\u043c\\u043f\\u0430\\u043d\\u0438\\u0435\\u0439 \\\"\\u0410\\u043a\\u0432\\u0430\\u0442\\u0435\\u0445\\u043d\\u0438\\u043a\\\". \\u0440\\u0435\\u043a\\u043e\\u043c\\u0435\\u043d\\u0434\\u0443\\u044e!\\n\"\n        ],\n        \"semantic_type\": \"\",\n        \"description\": \"\"\n      }\n    },\n    {\n      \"column\": \"Score\",\n      \"properties\": {\n        \"dtype\": \"number\",\n        \"std\": 0,\n        \"min\": 0,\n        \"max\": 2,\n        \"num_unique_values\": 3,\n        \"samples\": [\n          2,\n          1,\n          0\n        ],\n        \"semantic_type\": \"\",\n        \"description\": \"\"\n      }\n    },\n    {\n      \"column\": \"Preprocessed_texts\",\n      \"properties\": {\n        \"dtype\": \"object\",\n        \"semantic_type\": \"\",\n        \"description\": \"\"\n      }\n    },\n    {\n      \"column\": \"Sequences\",\n      \"properties\": {\n        \"dtype\": \"object\",\n        \"semantic_type\": \"\",\n        \"description\": \"\"\n      }\n    }\n  ]\n}"
            }
          },
          "metadata": {},
          "execution_count": 23
        }
      ]
    },
    {
      "cell_type": "markdown",
      "source": [
        "### Сохранение файла"
      ],
      "metadata": {
        "id": "fVxRqXdyn8Fi"
      }
    },
    {
      "cell_type": "code",
      "source": [
        "reviews.to_csv(f'{FILE_NAME}-Обработано.csv')"
      ],
      "metadata": {
        "id": "q_ZgjjhPn-Og"
      },
      "execution_count": 24,
      "outputs": []
    },
    {
      "cell_type": "markdown",
      "source": [
        "Разделение файла"
      ],
      "metadata": {
        "id": "IZFaym-SU8xj"
      }
    },
    {
      "cell_type": "code",
      "source": [
        "train, test = train_test_split(reviews, test_size=0.2)\n",
        "\n",
        "x_train_seq = train['Sequences']\n",
        "y_train = train['Score']\n",
        "\n",
        "x_test_seq = test['Sequences']\n",
        "y_test = test['Score']"
      ],
      "metadata": {
        "id": "ixqnypsQUmYd"
      },
      "execution_count": 25,
      "outputs": []
    },
    {
      "cell_type": "markdown",
      "source": [
        "Векторизация данных"
      ],
      "metadata": {
        "id": "ixCHmUZlVPJw"
      }
    },
    {
      "cell_type": "code",
      "source": [
        "x_train = vectorize_sequences(x_train_seq, MAX_WORDS)\n",
        "x_test = vectorize_sequences(x_test_seq, MAX_WORDS)"
      ],
      "metadata": {
        "id": "ivEph0QLVOO5"
      },
      "execution_count": 26,
      "outputs": []
    },
    {
      "cell_type": "markdown",
      "source": [
        "Обучение модели"
      ],
      "metadata": {
        "id": "EcNOPf89VVHA"
      }
    },
    {
      "cell_type": "code",
      "source": [
        "model = RandomForestClassifier()\n",
        "model.fit(x_train, y_train)"
      ],
      "metadata": {
        "colab": {
          "base_uri": "https://localhost:8080/",
          "height": 75
        },
        "id": "z0Ctn5Fdf6FV",
        "outputId": "0e095fcc-37b9-4e8f-f94f-e96ba79b3a74"
      },
      "execution_count": 27,
      "outputs": [
        {
          "output_type": "execute_result",
          "data": {
            "text/plain": [
              "RandomForestClassifier()"
            ],
            "text/html": [
              "<style>#sk-container-id-1 {color: black;background-color: white;}#sk-container-id-1 pre{padding: 0;}#sk-container-id-1 div.sk-toggleable {background-color: white;}#sk-container-id-1 label.sk-toggleable__label {cursor: pointer;display: block;width: 100%;margin-bottom: 0;padding: 0.3em;box-sizing: border-box;text-align: center;}#sk-container-id-1 label.sk-toggleable__label-arrow:before {content: \"▸\";float: left;margin-right: 0.25em;color: #696969;}#sk-container-id-1 label.sk-toggleable__label-arrow:hover:before {color: black;}#sk-container-id-1 div.sk-estimator:hover label.sk-toggleable__label-arrow:before {color: black;}#sk-container-id-1 div.sk-toggleable__content {max-height: 0;max-width: 0;overflow: hidden;text-align: left;background-color: #f0f8ff;}#sk-container-id-1 div.sk-toggleable__content pre {margin: 0.2em;color: black;border-radius: 0.25em;background-color: #f0f8ff;}#sk-container-id-1 input.sk-toggleable__control:checked~div.sk-toggleable__content {max-height: 200px;max-width: 100%;overflow: auto;}#sk-container-id-1 input.sk-toggleable__control:checked~label.sk-toggleable__label-arrow:before {content: \"▾\";}#sk-container-id-1 div.sk-estimator input.sk-toggleable__control:checked~label.sk-toggleable__label {background-color: #d4ebff;}#sk-container-id-1 div.sk-label input.sk-toggleable__control:checked~label.sk-toggleable__label {background-color: #d4ebff;}#sk-container-id-1 input.sk-hidden--visually {border: 0;clip: rect(1px 1px 1px 1px);clip: rect(1px, 1px, 1px, 1px);height: 1px;margin: -1px;overflow: hidden;padding: 0;position: absolute;width: 1px;}#sk-container-id-1 div.sk-estimator {font-family: monospace;background-color: #f0f8ff;border: 1px dotted black;border-radius: 0.25em;box-sizing: border-box;margin-bottom: 0.5em;}#sk-container-id-1 div.sk-estimator:hover {background-color: #d4ebff;}#sk-container-id-1 div.sk-parallel-item::after {content: \"\";width: 100%;border-bottom: 1px solid gray;flex-grow: 1;}#sk-container-id-1 div.sk-label:hover label.sk-toggleable__label {background-color: #d4ebff;}#sk-container-id-1 div.sk-serial::before {content: \"\";position: absolute;border-left: 1px solid gray;box-sizing: border-box;top: 0;bottom: 0;left: 50%;z-index: 0;}#sk-container-id-1 div.sk-serial {display: flex;flex-direction: column;align-items: center;background-color: white;padding-right: 0.2em;padding-left: 0.2em;position: relative;}#sk-container-id-1 div.sk-item {position: relative;z-index: 1;}#sk-container-id-1 div.sk-parallel {display: flex;align-items: stretch;justify-content: center;background-color: white;position: relative;}#sk-container-id-1 div.sk-item::before, #sk-container-id-1 div.sk-parallel-item::before {content: \"\";position: absolute;border-left: 1px solid gray;box-sizing: border-box;top: 0;bottom: 0;left: 50%;z-index: -1;}#sk-container-id-1 div.sk-parallel-item {display: flex;flex-direction: column;z-index: 1;position: relative;background-color: white;}#sk-container-id-1 div.sk-parallel-item:first-child::after {align-self: flex-end;width: 50%;}#sk-container-id-1 div.sk-parallel-item:last-child::after {align-self: flex-start;width: 50%;}#sk-container-id-1 div.sk-parallel-item:only-child::after {width: 0;}#sk-container-id-1 div.sk-dashed-wrapped {border: 1px dashed gray;margin: 0 0.4em 0.5em 0.4em;box-sizing: border-box;padding-bottom: 0.4em;background-color: white;}#sk-container-id-1 div.sk-label label {font-family: monospace;font-weight: bold;display: inline-block;line-height: 1.2em;}#sk-container-id-1 div.sk-label-container {text-align: center;}#sk-container-id-1 div.sk-container {/* jupyter's `normalize.less` sets `[hidden] { display: none; }` but bootstrap.min.css set `[hidden] { display: none !important; }` so we also need the `!important` here to be able to override the default hidden behavior on the sphinx rendered scikit-learn.org. See: https://github.com/scikit-learn/scikit-learn/issues/21755 */display: inline-block !important;position: relative;}#sk-container-id-1 div.sk-text-repr-fallback {display: none;}</style><div id=\"sk-container-id-1\" class=\"sk-top-container\"><div class=\"sk-text-repr-fallback\"><pre>RandomForestClassifier()</pre><b>In a Jupyter environment, please rerun this cell to show the HTML representation or trust the notebook. <br />On GitHub, the HTML representation is unable to render, please try loading this page with nbviewer.org.</b></div><div class=\"sk-container\" hidden><div class=\"sk-item\"><div class=\"sk-estimator sk-toggleable\"><input class=\"sk-toggleable__control sk-hidden--visually\" id=\"sk-estimator-id-1\" type=\"checkbox\" checked><label for=\"sk-estimator-id-1\" class=\"sk-toggleable__label sk-toggleable__label-arrow\">RandomForestClassifier</label><div class=\"sk-toggleable__content\"><pre>RandomForestClassifier()</pre></div></div></div></div></div>"
            ]
          },
          "metadata": {},
          "execution_count": 27
        }
      ]
    },
    {
      "cell_type": "code",
      "source": [
        "joblib.dump(model, 'Random Forest.joblib')"
      ],
      "metadata": {
        "colab": {
          "base_uri": "https://localhost:8080/"
        },
        "id": "ypTS1U_1VobY",
        "outputId": "3e4e9ff2-2d94-4065-da32-b9c6f6d637d5"
      },
      "execution_count": 28,
      "outputs": [
        {
          "output_type": "execute_result",
          "data": {
            "text/plain": [
              "['Random Forest.joblib']"
            ]
          },
          "metadata": {},
          "execution_count": 28
        }
      ]
    },
    {
      "cell_type": "markdown",
      "source": [
        "Загрузка модели"
      ],
      "metadata": {
        "id": "HvZrWkq2nUUF"
      }
    },
    {
      "cell_type": "code",
      "source": [
        "model1 = joblib.load('Logistic Regression.joblib')\n",
        "model2 = joblib.load('Naive Bayes.joblib')"
      ],
      "metadata": {
        "id": "TQMTf7VJnYOv"
      },
      "execution_count": null,
      "outputs": []
    },
    {
      "cell_type": "markdown",
      "source": [
        "Проверка"
      ],
      "metadata": {
        "id": "1VTezmZingWM"
      }
    },
    {
      "cell_type": "code",
      "source": [
        "text = 'Игра кажется устаревшей и неинтересной. Графика ужасна, и управление крайне неудобно. Не рекомендую'\n",
        "\n",
        "preprocessed_text = preprocess(text, stop_words, punctuation_marks, morph)\n",
        "seq = text_to_sequence(preprocessed_text, word_to_index)\n",
        "bow = vectorize_sequences([seq], MAX_WORDS)"
      ],
      "metadata": {
        "id": "vAj6jAHhniTr"
      },
      "execution_count": 29,
      "outputs": []
    },
    {
      "cell_type": "code",
      "source": [
        "model.predict_proba(bow)"
      ],
      "metadata": {
        "colab": {
          "base_uri": "https://localhost:8080/"
        },
        "outputId": "5fbd0b9d-a9ed-4280-876a-230be4355dd4",
        "id": "4gBSgoFwtB3Y"
      },
      "execution_count": 30,
      "outputs": [
        {
          "output_type": "execute_result",
          "data": {
            "text/plain": [
              "array([[0.67, 0.17, 0.16]])"
            ]
          },
          "metadata": {},
          "execution_count": 30
        }
      ]
    },
    {
      "cell_type": "code",
      "source": [
        "model1.predict_proba(bow)"
      ],
      "metadata": {
        "colab": {
          "base_uri": "https://localhost:8080/"
        },
        "id": "kQGqTyCpnmNT",
        "outputId": "ad9b3946-b6a5-4155-93e5-7f3e3c19e34b"
      },
      "execution_count": null,
      "outputs": [
        {
          "output_type": "execute_result",
          "data": {
            "text/plain": [
              "array([[0.08114911, 0.19260082, 0.72625007]])"
            ]
          },
          "metadata": {},
          "execution_count": 117
        }
      ]
    },
    {
      "cell_type": "code",
      "source": [
        "model2.predict_proba(bow)"
      ],
      "metadata": {
        "colab": {
          "base_uri": "https://localhost:8080/"
        },
        "id": "WkQ39T5eqnV5",
        "outputId": "b62088f2-941d-482c-f946-319e25d65e69"
      },
      "execution_count": null,
      "outputs": [
        {
          "output_type": "execute_result",
          "data": {
            "text/plain": [
              "array([[0.25528571, 0.07471429, 0.67      ]])"
            ]
          },
          "metadata": {},
          "execution_count": 118
        }
      ]
    },
    {
      "cell_type": "code",
      "source": [
        "y_pred = model.predict(x_test)\n",
        "\n",
        "accuray = accuracy_score(y_pred, y_test)\n",
        "f1 = f1_score(y_pred, y_test, average=\"weighted\")\n",
        "\n",
        "print(\"Accuracy:\", accuray)\n",
        "print(\"F1 Score:\", f1)"
      ],
      "metadata": {
        "colab": {
          "base_uri": "https://localhost:8080/"
        },
        "id": "OiS1UVU7rviO",
        "outputId": "215a9893-cf80-45ca-9f6c-aec4ab18bf8b"
      },
      "execution_count": 31,
      "outputs": [
        {
          "output_type": "stream",
          "name": "stdout",
          "text": [
            "Accuracy: 0.8244734202607823\n",
            "F1 Score: 0.877397183099431\n"
          ]
        }
      ]
    }
  ]
}